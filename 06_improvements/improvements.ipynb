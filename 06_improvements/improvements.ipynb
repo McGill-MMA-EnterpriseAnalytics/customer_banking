{
 "cells": [
  {
   "cell_type": "markdown",
   "metadata": {},
   "source": [
    "# Import Libraries"
   ]
  },
  {
   "cell_type": "code",
   "execution_count": 478,
   "metadata": {},
   "outputs": [],
   "source": [
    "import warnings\n",
    "warnings.filterwarnings('ignore')\n",
    "\n",
    "import numpy as np\n",
    "import pandas as pd"
   ]
  },
  {
   "cell_type": "code",
   "execution_count": 479,
   "metadata": {},
   "outputs": [],
   "source": [
    "import seaborn as sns\n",
    "import matplotlib.pyplot as plt"
   ]
  },
  {
   "cell_type": "code",
   "execution_count": 480,
   "metadata": {},
   "outputs": [],
   "source": [
    "from time import time\n",
    "from statsmodels.stats.outliers_influence import variance_inflation_factor\n",
    "from sklearn import feature_selection\n",
    "from sklearn.feature_selection import (\n",
    "    RFE,\n",
    "    SelectFromModel\n",
    ")\n",
    "from sklearn import linear_model\n",
    "from sklearn.linear_model import (\n",
    "    LogisticRegression,\n",
    "    LassoCV\n",
    ")\n",
    "from sklearn.ensemble import (\n",
    "    RandomForestClassifier, \n",
    "    GradientBoostingClassifier,\n",
    "    ExtraTreesClassifier\n",
    ")\n",
    "from sklearn.metrics import (\n",
    "    accuracy_score, \n",
    "    confusion_matrix,\n",
    "    classification_report,\n",
    "    precision_score, \n",
    "    recall_score, \n",
    "    f1_score, \n",
    "    roc_auc_score,\n",
    "    fbeta_score\n",
    ")\n",
    "import xgboost as xgb\n",
    "from xgboost import XGBClassifier\n",
    "\n",
    "from sklearn.impute import KNNImputer\n",
    "from sklearn.preprocessing import (\n",
    "    StandardScaler,\n",
    "    OrdinalEncoder, \n",
    "    LabelEncoder\n",
    ")\n",
    "from category_encoders import TargetEncoder\n",
    "from sklearn.model_selection import train_test_split\n",
    "from sklearn.preprocessing import OneHotEncoder\n",
    "from sklearn.experimental import enable_iterative_imputer\n",
    "from sklearn.impute import IterativeImputer\n",
    "from sklearn.linear_model import BayesianRidge\n"
   ]
  },
  {
   "cell_type": "markdown",
   "metadata": {},
   "source": [
    "# Import Dataset"
   ]
  },
  {
   "cell_type": "code",
   "execution_count": 481,
   "metadata": {},
   "outputs": [
    {
     "data": {
      "text/html": [
       "<div>\n",
       "<style scoped>\n",
       "    .dataframe tbody tr th:only-of-type {\n",
       "        vertical-align: middle;\n",
       "    }\n",
       "\n",
       "    .dataframe tbody tr th {\n",
       "        vertical-align: top;\n",
       "    }\n",
       "\n",
       "    .dataframe thead th {\n",
       "        text-align: right;\n",
       "    }\n",
       "</style>\n",
       "<table border=\"1\" class=\"dataframe\">\n",
       "  <thead>\n",
       "    <tr style=\"text-align: right;\">\n",
       "      <th></th>\n",
       "      <th>age</th>\n",
       "      <th>job</th>\n",
       "      <th>marital</th>\n",
       "      <th>education</th>\n",
       "      <th>default</th>\n",
       "      <th>balance</th>\n",
       "      <th>housing</th>\n",
       "      <th>loan</th>\n",
       "      <th>contact</th>\n",
       "      <th>day</th>\n",
       "      <th>month</th>\n",
       "      <th>duration</th>\n",
       "      <th>campaign</th>\n",
       "      <th>pdays</th>\n",
       "      <th>previous</th>\n",
       "      <th>poutcome</th>\n",
       "      <th>y</th>\n",
       "    </tr>\n",
       "  </thead>\n",
       "  <tbody>\n",
       "    <tr>\n",
       "      <th>0</th>\n",
       "      <td>58</td>\n",
       "      <td>management</td>\n",
       "      <td>married</td>\n",
       "      <td>tertiary</td>\n",
       "      <td>no</td>\n",
       "      <td>2143</td>\n",
       "      <td>yes</td>\n",
       "      <td>no</td>\n",
       "      <td>unknown</td>\n",
       "      <td>5</td>\n",
       "      <td>may</td>\n",
       "      <td>261</td>\n",
       "      <td>1</td>\n",
       "      <td>-1</td>\n",
       "      <td>0</td>\n",
       "      <td>unknown</td>\n",
       "      <td>0</td>\n",
       "    </tr>\n",
       "    <tr>\n",
       "      <th>1</th>\n",
       "      <td>44</td>\n",
       "      <td>technician</td>\n",
       "      <td>single</td>\n",
       "      <td>secondary</td>\n",
       "      <td>no</td>\n",
       "      <td>29</td>\n",
       "      <td>yes</td>\n",
       "      <td>no</td>\n",
       "      <td>unknown</td>\n",
       "      <td>5</td>\n",
       "      <td>may</td>\n",
       "      <td>151</td>\n",
       "      <td>1</td>\n",
       "      <td>-1</td>\n",
       "      <td>0</td>\n",
       "      <td>unknown</td>\n",
       "      <td>0</td>\n",
       "    </tr>\n",
       "    <tr>\n",
       "      <th>2</th>\n",
       "      <td>33</td>\n",
       "      <td>entrepreneur</td>\n",
       "      <td>married</td>\n",
       "      <td>secondary</td>\n",
       "      <td>no</td>\n",
       "      <td>2</td>\n",
       "      <td>yes</td>\n",
       "      <td>yes</td>\n",
       "      <td>unknown</td>\n",
       "      <td>5</td>\n",
       "      <td>may</td>\n",
       "      <td>76</td>\n",
       "      <td>1</td>\n",
       "      <td>-1</td>\n",
       "      <td>0</td>\n",
       "      <td>unknown</td>\n",
       "      <td>0</td>\n",
       "    </tr>\n",
       "    <tr>\n",
       "      <th>3</th>\n",
       "      <td>47</td>\n",
       "      <td>blue-collar</td>\n",
       "      <td>married</td>\n",
       "      <td>unknown</td>\n",
       "      <td>no</td>\n",
       "      <td>1506</td>\n",
       "      <td>yes</td>\n",
       "      <td>no</td>\n",
       "      <td>unknown</td>\n",
       "      <td>5</td>\n",
       "      <td>may</td>\n",
       "      <td>92</td>\n",
       "      <td>1</td>\n",
       "      <td>-1</td>\n",
       "      <td>0</td>\n",
       "      <td>unknown</td>\n",
       "      <td>0</td>\n",
       "    </tr>\n",
       "    <tr>\n",
       "      <th>4</th>\n",
       "      <td>33</td>\n",
       "      <td>unknown</td>\n",
       "      <td>single</td>\n",
       "      <td>unknown</td>\n",
       "      <td>no</td>\n",
       "      <td>1</td>\n",
       "      <td>no</td>\n",
       "      <td>no</td>\n",
       "      <td>unknown</td>\n",
       "      <td>5</td>\n",
       "      <td>may</td>\n",
       "      <td>198</td>\n",
       "      <td>1</td>\n",
       "      <td>-1</td>\n",
       "      <td>0</td>\n",
       "      <td>unknown</td>\n",
       "      <td>0</td>\n",
       "    </tr>\n",
       "    <tr>\n",
       "      <th>...</th>\n",
       "      <td>...</td>\n",
       "      <td>...</td>\n",
       "      <td>...</td>\n",
       "      <td>...</td>\n",
       "      <td>...</td>\n",
       "      <td>...</td>\n",
       "      <td>...</td>\n",
       "      <td>...</td>\n",
       "      <td>...</td>\n",
       "      <td>...</td>\n",
       "      <td>...</td>\n",
       "      <td>...</td>\n",
       "      <td>...</td>\n",
       "      <td>...</td>\n",
       "      <td>...</td>\n",
       "      <td>...</td>\n",
       "      <td>...</td>\n",
       "    </tr>\n",
       "    <tr>\n",
       "      <th>45206</th>\n",
       "      <td>51</td>\n",
       "      <td>technician</td>\n",
       "      <td>married</td>\n",
       "      <td>tertiary</td>\n",
       "      <td>no</td>\n",
       "      <td>825</td>\n",
       "      <td>no</td>\n",
       "      <td>no</td>\n",
       "      <td>cellular</td>\n",
       "      <td>17</td>\n",
       "      <td>nov</td>\n",
       "      <td>977</td>\n",
       "      <td>3</td>\n",
       "      <td>-1</td>\n",
       "      <td>0</td>\n",
       "      <td>unknown</td>\n",
       "      <td>1</td>\n",
       "    </tr>\n",
       "    <tr>\n",
       "      <th>45207</th>\n",
       "      <td>71</td>\n",
       "      <td>retired</td>\n",
       "      <td>divorced</td>\n",
       "      <td>primary</td>\n",
       "      <td>no</td>\n",
       "      <td>1729</td>\n",
       "      <td>no</td>\n",
       "      <td>no</td>\n",
       "      <td>cellular</td>\n",
       "      <td>17</td>\n",
       "      <td>nov</td>\n",
       "      <td>456</td>\n",
       "      <td>2</td>\n",
       "      <td>-1</td>\n",
       "      <td>0</td>\n",
       "      <td>unknown</td>\n",
       "      <td>1</td>\n",
       "    </tr>\n",
       "    <tr>\n",
       "      <th>45208</th>\n",
       "      <td>72</td>\n",
       "      <td>retired</td>\n",
       "      <td>married</td>\n",
       "      <td>secondary</td>\n",
       "      <td>no</td>\n",
       "      <td>5715</td>\n",
       "      <td>no</td>\n",
       "      <td>no</td>\n",
       "      <td>cellular</td>\n",
       "      <td>17</td>\n",
       "      <td>nov</td>\n",
       "      <td>1127</td>\n",
       "      <td>5</td>\n",
       "      <td>184</td>\n",
       "      <td>3</td>\n",
       "      <td>success</td>\n",
       "      <td>1</td>\n",
       "    </tr>\n",
       "    <tr>\n",
       "      <th>45209</th>\n",
       "      <td>57</td>\n",
       "      <td>blue-collar</td>\n",
       "      <td>married</td>\n",
       "      <td>secondary</td>\n",
       "      <td>no</td>\n",
       "      <td>668</td>\n",
       "      <td>no</td>\n",
       "      <td>no</td>\n",
       "      <td>telephone</td>\n",
       "      <td>17</td>\n",
       "      <td>nov</td>\n",
       "      <td>508</td>\n",
       "      <td>4</td>\n",
       "      <td>-1</td>\n",
       "      <td>0</td>\n",
       "      <td>unknown</td>\n",
       "      <td>0</td>\n",
       "    </tr>\n",
       "    <tr>\n",
       "      <th>45210</th>\n",
       "      <td>37</td>\n",
       "      <td>entrepreneur</td>\n",
       "      <td>married</td>\n",
       "      <td>secondary</td>\n",
       "      <td>no</td>\n",
       "      <td>2971</td>\n",
       "      <td>no</td>\n",
       "      <td>no</td>\n",
       "      <td>cellular</td>\n",
       "      <td>17</td>\n",
       "      <td>nov</td>\n",
       "      <td>361</td>\n",
       "      <td>2</td>\n",
       "      <td>188</td>\n",
       "      <td>11</td>\n",
       "      <td>other</td>\n",
       "      <td>0</td>\n",
       "    </tr>\n",
       "  </tbody>\n",
       "</table>\n",
       "<p>45211 rows × 17 columns</p>\n",
       "</div>"
      ],
      "text/plain": [
       "       age           job   marital  education default  balance housing loan  \\\n",
       "0       58    management   married   tertiary      no     2143     yes   no   \n",
       "1       44    technician    single  secondary      no       29     yes   no   \n",
       "2       33  entrepreneur   married  secondary      no        2     yes  yes   \n",
       "3       47   blue-collar   married    unknown      no     1506     yes   no   \n",
       "4       33       unknown    single    unknown      no        1      no   no   \n",
       "...    ...           ...       ...        ...     ...      ...     ...  ...   \n",
       "45206   51    technician   married   tertiary      no      825      no   no   \n",
       "45207   71       retired  divorced    primary      no     1729      no   no   \n",
       "45208   72       retired   married  secondary      no     5715      no   no   \n",
       "45209   57   blue-collar   married  secondary      no      668      no   no   \n",
       "45210   37  entrepreneur   married  secondary      no     2971      no   no   \n",
       "\n",
       "         contact  day month  duration  campaign  pdays  previous poutcome  y  \n",
       "0        unknown    5   may       261         1     -1         0  unknown  0  \n",
       "1        unknown    5   may       151         1     -1         0  unknown  0  \n",
       "2        unknown    5   may        76         1     -1         0  unknown  0  \n",
       "3        unknown    5   may        92         1     -1         0  unknown  0  \n",
       "4        unknown    5   may       198         1     -1         0  unknown  0  \n",
       "...          ...  ...   ...       ...       ...    ...       ...      ... ..  \n",
       "45206   cellular   17   nov       977         3     -1         0  unknown  1  \n",
       "45207   cellular   17   nov       456         2     -1         0  unknown  1  \n",
       "45208   cellular   17   nov      1127         5    184         3  success  1  \n",
       "45209  telephone   17   nov       508         4     -1         0  unknown  0  \n",
       "45210   cellular   17   nov       361         2    188        11    other  0  \n",
       "\n",
       "[45211 rows x 17 columns]"
      ]
     },
     "execution_count": 481,
     "metadata": {},
     "output_type": "execute_result"
    }
   ],
   "source": [
    "df = pd.read_csv('/Users/kritikanayyar/Documents/MMA/3 & 4. Complementary Courses Selection/7. Enterprise Data Science & Machine Learning in Production II/targeted_marketing/Dataset/bank-full.csv', delimiter=';')\n",
    "#convert target variable to binary\n",
    "df['y'] = df['y'].map({'yes': 1, 'no': 0})\n",
    "df"
   ]
  },
  {
   "cell_type": "code",
   "execution_count": 482,
   "metadata": {},
   "outputs": [
    {
     "data": {
      "text/html": [
       "<div>\n",
       "<style scoped>\n",
       "    .dataframe tbody tr th:only-of-type {\n",
       "        vertical-align: middle;\n",
       "    }\n",
       "\n",
       "    .dataframe tbody tr th {\n",
       "        vertical-align: top;\n",
       "    }\n",
       "\n",
       "    .dataframe thead th {\n",
       "        text-align: right;\n",
       "    }\n",
       "</style>\n",
       "<table border=\"1\" class=\"dataframe\">\n",
       "  <thead>\n",
       "    <tr style=\"text-align: right;\">\n",
       "      <th></th>\n",
       "      <th>Column Name</th>\n",
       "      <th>Unique Values</th>\n",
       "      <th>Categories and Percentages</th>\n",
       "    </tr>\n",
       "  </thead>\n",
       "  <tbody>\n",
       "    <tr>\n",
       "      <th>0</th>\n",
       "      <td>age</td>\n",
       "      <td>77</td>\n",
       "      <td>32 (4.61%), 31 (4.41%), 33 (4.36%), 34 (4.27%)...</td>\n",
       "    </tr>\n",
       "    <tr>\n",
       "      <th>1</th>\n",
       "      <td>job</td>\n",
       "      <td>12</td>\n",
       "      <td>blue-collar (21.53%), management (20.92%), tec...</td>\n",
       "    </tr>\n",
       "    <tr>\n",
       "      <th>2</th>\n",
       "      <td>marital</td>\n",
       "      <td>3</td>\n",
       "      <td>married (60.19%), single (28.29%), divorced (1...</td>\n",
       "    </tr>\n",
       "    <tr>\n",
       "      <th>3</th>\n",
       "      <td>education</td>\n",
       "      <td>4</td>\n",
       "      <td>secondary (51.32%), tertiary (29.42%), primary...</td>\n",
       "    </tr>\n",
       "    <tr>\n",
       "      <th>4</th>\n",
       "      <td>default</td>\n",
       "      <td>2</td>\n",
       "      <td>no (98.20%), yes (1.80%)</td>\n",
       "    </tr>\n",
       "    <tr>\n",
       "      <th>5</th>\n",
       "      <td>balance</td>\n",
       "      <td>7168</td>\n",
       "      <td>0 (7.77%), 1 (0.43%), 2 (0.35%), 4 (0.31%), 3 ...</td>\n",
       "    </tr>\n",
       "    <tr>\n",
       "      <th>6</th>\n",
       "      <td>housing</td>\n",
       "      <td>2</td>\n",
       "      <td>yes (55.58%), no (44.42%)</td>\n",
       "    </tr>\n",
       "    <tr>\n",
       "      <th>7</th>\n",
       "      <td>loan</td>\n",
       "      <td>2</td>\n",
       "      <td>no (83.98%), yes (16.02%)</td>\n",
       "    </tr>\n",
       "    <tr>\n",
       "      <th>8</th>\n",
       "      <td>contact</td>\n",
       "      <td>3</td>\n",
       "      <td>cellular (64.77%), unknown (28.80%), telephone...</td>\n",
       "    </tr>\n",
       "    <tr>\n",
       "      <th>9</th>\n",
       "      <td>day</td>\n",
       "      <td>31</td>\n",
       "      <td>20 (6.09%), 18 (5.10%), 21 (4.48%), 17 (4.29%)...</td>\n",
       "    </tr>\n",
       "    <tr>\n",
       "      <th>10</th>\n",
       "      <td>month</td>\n",
       "      <td>12</td>\n",
       "      <td>may (30.45%), jul (15.25%), aug (13.82%), jun ...</td>\n",
       "    </tr>\n",
       "    <tr>\n",
       "      <th>11</th>\n",
       "      <td>duration</td>\n",
       "      <td>1573</td>\n",
       "      <td>124 (0.42%), 90 (0.41%), 89 (0.39%), 104 (0.39...</td>\n",
       "    </tr>\n",
       "    <tr>\n",
       "      <th>12</th>\n",
       "      <td>campaign</td>\n",
       "      <td>48</td>\n",
       "      <td>1 (38.80%), 2 (27.66%), 3 (12.21%), 4 (7.79%),...</td>\n",
       "    </tr>\n",
       "    <tr>\n",
       "      <th>13</th>\n",
       "      <td>pdays</td>\n",
       "      <td>559</td>\n",
       "      <td>-1 (81.74%), 182 (0.37%), 92 (0.33%), 91 (0.28...</td>\n",
       "    </tr>\n",
       "    <tr>\n",
       "      <th>14</th>\n",
       "      <td>previous</td>\n",
       "      <td>41</td>\n",
       "      <td>0 (81.74%), 1 (6.13%), 2 (4.66%), 3 (2.53%), 4...</td>\n",
       "    </tr>\n",
       "    <tr>\n",
       "      <th>15</th>\n",
       "      <td>poutcome</td>\n",
       "      <td>4</td>\n",
       "      <td>unknown (81.75%), failure (10.84%), other (4.0...</td>\n",
       "    </tr>\n",
       "    <tr>\n",
       "      <th>16</th>\n",
       "      <td>y</td>\n",
       "      <td>2</td>\n",
       "      <td>0 (88.30%), 1 (11.70%)</td>\n",
       "    </tr>\n",
       "  </tbody>\n",
       "</table>\n",
       "</div>"
      ],
      "text/plain": [
       "   Column Name  Unique Values  \\\n",
       "0          age             77   \n",
       "1          job             12   \n",
       "2      marital              3   \n",
       "3    education              4   \n",
       "4      default              2   \n",
       "5      balance           7168   \n",
       "6      housing              2   \n",
       "7         loan              2   \n",
       "8      contact              3   \n",
       "9          day             31   \n",
       "10       month             12   \n",
       "11    duration           1573   \n",
       "12    campaign             48   \n",
       "13       pdays            559   \n",
       "14    previous             41   \n",
       "15    poutcome              4   \n",
       "16           y              2   \n",
       "\n",
       "                           Categories and Percentages  \n",
       "0   32 (4.61%), 31 (4.41%), 33 (4.36%), 34 (4.27%)...  \n",
       "1   blue-collar (21.53%), management (20.92%), tec...  \n",
       "2   married (60.19%), single (28.29%), divorced (1...  \n",
       "3   secondary (51.32%), tertiary (29.42%), primary...  \n",
       "4                            no (98.20%), yes (1.80%)  \n",
       "5   0 (7.77%), 1 (0.43%), 2 (0.35%), 4 (0.31%), 3 ...  \n",
       "6                           yes (55.58%), no (44.42%)  \n",
       "7                           no (83.98%), yes (16.02%)  \n",
       "8   cellular (64.77%), unknown (28.80%), telephone...  \n",
       "9   20 (6.09%), 18 (5.10%), 21 (4.48%), 17 (4.29%)...  \n",
       "10  may (30.45%), jul (15.25%), aug (13.82%), jun ...  \n",
       "11  124 (0.42%), 90 (0.41%), 89 (0.39%), 104 (0.39...  \n",
       "12  1 (38.80%), 2 (27.66%), 3 (12.21%), 4 (7.79%),...  \n",
       "13  -1 (81.74%), 182 (0.37%), 92 (0.33%), 91 (0.28...  \n",
       "14  0 (81.74%), 1 (6.13%), 2 (4.66%), 3 (2.53%), 4...  \n",
       "15  unknown (81.75%), failure (10.84%), other (4.0...  \n",
       "16                             0 (88.30%), 1 (11.70%)  "
      ]
     },
     "execution_count": 482,
     "metadata": {},
     "output_type": "execute_result"
    }
   ],
   "source": [
    "# Calculate the total number of rows in the dataset\n",
    "total_rows = len(df)\n",
    "\n",
    "# List to store data for the new DataFrame\n",
    "combined_summary = []\n",
    "\n",
    "# Loop over each column to calculate unique values, their counts, and percentages\n",
    "for column in df.columns:\n",
    "    # Get value counts for the column\n",
    "    counts = df[column].value_counts()\n",
    "    # Calculate percentage of total for each category\n",
    "    percentages = (counts / total_rows) * 100\n",
    "    # Create a summary string that concatenates category with its percentage\n",
    "    category_summary = ', '.join([f\"{cat} ({perc:.2f}%)\"\n",
    "                                  for cat, perc in zip(counts.index, percentages)])\n",
    "    # Get the number of unique values correctly\n",
    "    unique_values = df[column].nunique()\n",
    "    # Append unique count and category summary\n",
    "    combined_summary.append([column, unique_values, category_summary])\n",
    "\n",
    "# Create a DataFrame from the list\n",
    "summary_df = pd.DataFrame(combined_summary, columns=['Column Name', 'Unique Values', 'Categories and Percentages'])\n",
    "\n",
    "# Display the new DataFrame\n",
    "summary_df"
   ]
  },
  {
   "cell_type": "markdown",
   "metadata": {},
   "source": [
    "# Data Pre-Proccessing"
   ]
  },
  {
   "cell_type": "markdown",
   "metadata": {},
   "source": [
    "## Missing Data"
   ]
  },
  {
   "cell_type": "code",
   "execution_count": 483,
   "metadata": {},
   "outputs": [],
   "source": [
    "def missing_values(df):\n",
    "    mis_val = df.isnull().sum()\n",
    "    mis_val_percent = 100 * df.isnull().sum() / len(df)\n",
    "    mis_val_table = pd.concat([mis_val, mis_val_percent], axis=1)\n",
    "    mis_val_table_ren_columns = mis_val_table.rename(columns={\n",
    "        0: 'Missing Values',\n",
    "        1: '% of Total Values'\n",
    "    })\n",
    "    mis_val_table_ren_columns = mis_val_table_ren_columns[\n",
    "        mis_val_table_ren_columns.iloc[:, 1] != 0].sort_values(\n",
    "            '% of Total Values', ascending=False).round(1)\n",
    "    print(\"Dataframe has \" + str(df.shape[1]) + \" columns.\")\n",
    "    print(\"There are \" + str(mis_val_table_ren_columns.shape[0]) +\n",
    "          \" columns that have missing values.\")\n",
    "\n",
    "    return mis_val_table_ren_columns"
   ]
  },
  {
   "cell_type": "code",
   "execution_count": 484,
   "metadata": {},
   "outputs": [
    {
     "name": "stdout",
     "output_type": "stream",
     "text": [
      "Dataframe has 17 columns.\n",
      "There are 0 columns that have missing values.\n"
     ]
    },
    {
     "data": {
      "text/html": [
       "<div>\n",
       "<style scoped>\n",
       "    .dataframe tbody tr th:only-of-type {\n",
       "        vertical-align: middle;\n",
       "    }\n",
       "\n",
       "    .dataframe tbody tr th {\n",
       "        vertical-align: top;\n",
       "    }\n",
       "\n",
       "    .dataframe thead th {\n",
       "        text-align: right;\n",
       "    }\n",
       "</style>\n",
       "<table border=\"1\" class=\"dataframe\">\n",
       "  <thead>\n",
       "    <tr style=\"text-align: right;\">\n",
       "      <th></th>\n",
       "      <th>Missing Values</th>\n",
       "      <th>% of Total Values</th>\n",
       "    </tr>\n",
       "  </thead>\n",
       "  <tbody>\n",
       "  </tbody>\n",
       "</table>\n",
       "</div>"
      ],
      "text/plain": [
       "Empty DataFrame\n",
       "Columns: [Missing Values, % of Total Values]\n",
       "Index: []"
      ]
     },
     "execution_count": 484,
     "metadata": {},
     "output_type": "execute_result"
    }
   ],
   "source": [
    "# Missing values statistics\n",
    "miss_values = missing_values(df)\n",
    "miss_values"
   ]
  },
  {
   "cell_type": "markdown",
   "metadata": {},
   "source": [
    "<div style=\"background-color: yellow; color: black; padding: 10px;\">\n",
    "    On the face, it looks there are no missing values. However, few columns include unknown and -1 values.\n",
    "</div>"
   ]
  },
  {
   "cell_type": "markdown",
   "metadata": {},
   "source": [
    "### Handle 'unknown' values in column 'job'"
   ]
  },
  {
   "cell_type": "code",
   "execution_count": 485,
   "metadata": {},
   "outputs": [
    {
     "data": {
      "text/plain": [
       "job\n",
       "blue-collar      9732\n",
       "management       9458\n",
       "technician       7597\n",
       "admin.           5171\n",
       "services         4154\n",
       "retired          2264\n",
       "self-employed    1579\n",
       "entrepreneur     1487\n",
       "unemployed       1303\n",
       "housemaid        1240\n",
       "student           938\n",
       "unknown           288\n",
       "Name: count, dtype: int64"
      ]
     },
     "execution_count": 485,
     "metadata": {},
     "output_type": "execute_result"
    }
   ],
   "source": [
    "df['job'].value_counts()"
   ]
  },
  {
   "cell_type": "markdown",
   "metadata": {},
   "source": [
    "**Iterative Imputer** primarily handles numerical data. **KNN Imputer** is also fundamentally numerical since K-NN involves calculating distances between datapoints, we must use numeric variables only."
   ]
  },
  {
   "cell_type": "markdown",
   "metadata": {},
   "source": [
    "#### Interpolation: Use a predictive model to predict the value of the missing data"
   ]
  },
  {
   "cell_type": "code",
   "execution_count": 486,
   "metadata": {},
   "outputs": [
    {
     "data": {
      "text/html": [
       "<div>\n",
       "<style scoped>\n",
       "    .dataframe tbody tr th:only-of-type {\n",
       "        vertical-align: middle;\n",
       "    }\n",
       "\n",
       "    .dataframe tbody tr th {\n",
       "        vertical-align: top;\n",
       "    }\n",
       "\n",
       "    .dataframe thead th {\n",
       "        text-align: right;\n",
       "    }\n",
       "</style>\n",
       "<table border=\"1\" class=\"dataframe\">\n",
       "  <thead>\n",
       "    <tr style=\"text-align: right;\">\n",
       "      <th></th>\n",
       "      <th>age</th>\n",
       "      <th>job</th>\n",
       "      <th>marital</th>\n",
       "      <th>education</th>\n",
       "      <th>default</th>\n",
       "      <th>balance</th>\n",
       "      <th>housing</th>\n",
       "      <th>loan</th>\n",
       "      <th>contact</th>\n",
       "      <th>day</th>\n",
       "      <th>month</th>\n",
       "      <th>duration</th>\n",
       "      <th>campaign</th>\n",
       "      <th>pdays</th>\n",
       "      <th>previous</th>\n",
       "      <th>poutcome</th>\n",
       "      <th>y</th>\n",
       "    </tr>\n",
       "  </thead>\n",
       "  <tbody>\n",
       "    <tr>\n",
       "      <th>0</th>\n",
       "      <td>58</td>\n",
       "      <td>management</td>\n",
       "      <td>married</td>\n",
       "      <td>tertiary</td>\n",
       "      <td>no</td>\n",
       "      <td>2143</td>\n",
       "      <td>yes</td>\n",
       "      <td>no</td>\n",
       "      <td>unknown</td>\n",
       "      <td>5</td>\n",
       "      <td>may</td>\n",
       "      <td>261</td>\n",
       "      <td>1</td>\n",
       "      <td>-1</td>\n",
       "      <td>0</td>\n",
       "      <td>unknown</td>\n",
       "      <td>0</td>\n",
       "    </tr>\n",
       "    <tr>\n",
       "      <th>1</th>\n",
       "      <td>44</td>\n",
       "      <td>technician</td>\n",
       "      <td>single</td>\n",
       "      <td>secondary</td>\n",
       "      <td>no</td>\n",
       "      <td>29</td>\n",
       "      <td>yes</td>\n",
       "      <td>no</td>\n",
       "      <td>unknown</td>\n",
       "      <td>5</td>\n",
       "      <td>may</td>\n",
       "      <td>151</td>\n",
       "      <td>1</td>\n",
       "      <td>-1</td>\n",
       "      <td>0</td>\n",
       "      <td>unknown</td>\n",
       "      <td>0</td>\n",
       "    </tr>\n",
       "    <tr>\n",
       "      <th>2</th>\n",
       "      <td>33</td>\n",
       "      <td>entrepreneur</td>\n",
       "      <td>married</td>\n",
       "      <td>secondary</td>\n",
       "      <td>no</td>\n",
       "      <td>2</td>\n",
       "      <td>yes</td>\n",
       "      <td>yes</td>\n",
       "      <td>unknown</td>\n",
       "      <td>5</td>\n",
       "      <td>may</td>\n",
       "      <td>76</td>\n",
       "      <td>1</td>\n",
       "      <td>-1</td>\n",
       "      <td>0</td>\n",
       "      <td>unknown</td>\n",
       "      <td>0</td>\n",
       "    </tr>\n",
       "    <tr>\n",
       "      <th>3</th>\n",
       "      <td>47</td>\n",
       "      <td>blue-collar</td>\n",
       "      <td>married</td>\n",
       "      <td>unknown</td>\n",
       "      <td>no</td>\n",
       "      <td>1506</td>\n",
       "      <td>yes</td>\n",
       "      <td>no</td>\n",
       "      <td>unknown</td>\n",
       "      <td>5</td>\n",
       "      <td>may</td>\n",
       "      <td>92</td>\n",
       "      <td>1</td>\n",
       "      <td>-1</td>\n",
       "      <td>0</td>\n",
       "      <td>unknown</td>\n",
       "      <td>0</td>\n",
       "    </tr>\n",
       "    <tr>\n",
       "      <th>4</th>\n",
       "      <td>33</td>\n",
       "      <td>admin.</td>\n",
       "      <td>single</td>\n",
       "      <td>unknown</td>\n",
       "      <td>no</td>\n",
       "      <td>1</td>\n",
       "      <td>no</td>\n",
       "      <td>no</td>\n",
       "      <td>unknown</td>\n",
       "      <td>5</td>\n",
       "      <td>may</td>\n",
       "      <td>198</td>\n",
       "      <td>1</td>\n",
       "      <td>-1</td>\n",
       "      <td>0</td>\n",
       "      <td>unknown</td>\n",
       "      <td>0</td>\n",
       "    </tr>\n",
       "  </tbody>\n",
       "</table>\n",
       "</div>"
      ],
      "text/plain": [
       "   age           job  marital  education default  balance housing loan  \\\n",
       "0   58    management  married   tertiary      no     2143     yes   no   \n",
       "1   44    technician   single  secondary      no       29     yes   no   \n",
       "2   33  entrepreneur  married  secondary      no        2     yes  yes   \n",
       "3   47   blue-collar  married    unknown      no     1506     yes   no   \n",
       "4   33        admin.   single    unknown      no        1      no   no   \n",
       "\n",
       "   contact  day month  duration  campaign  pdays  previous poutcome  y  \n",
       "0  unknown    5   may       261         1     -1         0  unknown  0  \n",
       "1  unknown    5   may       151         1     -1         0  unknown  0  \n",
       "2  unknown    5   may        76         1     -1         0  unknown  0  \n",
       "3  unknown    5   may        92         1     -1         0  unknown  0  \n",
       "4  unknown    5   may       198         1     -1         0  unknown  0  "
      ]
     },
     "execution_count": 486,
     "metadata": {},
     "output_type": "execute_result"
    }
   ],
   "source": [
    "# Split data into train and predict sets\n",
    "train_df = df[df['job'] != 'unknown']\n",
    "predict_df = df[df['job'] == 'unknown']\n",
    "\n",
    "# Preprocess the data: Encode categorical variables with handle_unknown='ignore'\n",
    "encoder = OneHotEncoder(handle_unknown='ignore')\n",
    "X_train = encoder.fit_transform(train_df.drop('job', axis=1))\n",
    "y_train = train_df['job']\n",
    "X_predict = encoder.transform(predict_df.drop('job', axis=1))\n",
    "\n",
    "# Create and train the model\n",
    "model = RandomForestClassifier(n_estimators=100, random_state=42)\n",
    "model.fit(X_train, y_train)\n",
    "\n",
    "# Predict the missing job values\n",
    "job_predictions = model.predict(X_predict)\n",
    "\n",
    "# Insert the predicted job values back into the original DataFrame\n",
    "df.loc[df['job'] == 'unknown', 'job'] = job_predictions\n",
    "\n",
    "df.head()"
   ]
  },
  {
   "cell_type": "markdown",
   "metadata": {},
   "source": [
    "### Handle 'unknown' values in column 'education'"
   ]
  },
  {
   "cell_type": "code",
   "execution_count": 487,
   "metadata": {},
   "outputs": [
    {
     "data": {
      "text/plain": [
       "education\n",
       "secondary    23202\n",
       "tertiary     13301\n",
       "primary       6851\n",
       "unknown       1857\n",
       "Name: count, dtype: int64"
      ]
     },
     "execution_count": 487,
     "metadata": {},
     "output_type": "execute_result"
    }
   ],
   "source": [
    "df['education'].value_counts()"
   ]
  },
  {
   "cell_type": "markdown",
   "metadata": {},
   "source": [
    "With ordinal data, the order of the categories carries important information and should be preserved in any encoding. Example, Ratings (e.g., poor, fair, good, very good, excellent). "
   ]
  },
  {
   "cell_type": "code",
   "execution_count": 488,
   "metadata": {},
   "outputs": [],
   "source": [
    "# Map 'education' to ordinal values and handle 'unknown' as NaN\n",
    "education_map = {'primary': 1, 'secondary': 2, 'tertiary': 3, 'unknown': np.nan}\n",
    "df['education_ordinal'] = df['education'].map(education_map)"
   ]
  },
  {
   "cell_type": "code",
   "execution_count": 489,
   "metadata": {},
   "outputs": [
    {
     "data": {
      "text/html": [
       "<div>\n",
       "<style scoped>\n",
       "    .dataframe tbody tr th:only-of-type {\n",
       "        vertical-align: middle;\n",
       "    }\n",
       "\n",
       "    .dataframe tbody tr th {\n",
       "        vertical-align: top;\n",
       "    }\n",
       "\n",
       "    .dataframe thead th {\n",
       "        text-align: right;\n",
       "    }\n",
       "</style>\n",
       "<table border=\"1\" class=\"dataframe\">\n",
       "  <thead>\n",
       "    <tr style=\"text-align: right;\">\n",
       "      <th></th>\n",
       "      <th>age</th>\n",
       "      <th>job</th>\n",
       "      <th>marital</th>\n",
       "      <th>education</th>\n",
       "      <th>default</th>\n",
       "      <th>balance</th>\n",
       "      <th>housing</th>\n",
       "      <th>loan</th>\n",
       "      <th>contact</th>\n",
       "      <th>day</th>\n",
       "      <th>month</th>\n",
       "      <th>duration</th>\n",
       "      <th>campaign</th>\n",
       "      <th>pdays</th>\n",
       "      <th>previous</th>\n",
       "      <th>poutcome</th>\n",
       "      <th>y</th>\n",
       "      <th>education_ordinal</th>\n",
       "      <th>education_ordinal_imputed</th>\n",
       "    </tr>\n",
       "  </thead>\n",
       "  <tbody>\n",
       "    <tr>\n",
       "      <th>0</th>\n",
       "      <td>58</td>\n",
       "      <td>management</td>\n",
       "      <td>married</td>\n",
       "      <td>tertiary</td>\n",
       "      <td>no</td>\n",
       "      <td>2143</td>\n",
       "      <td>yes</td>\n",
       "      <td>no</td>\n",
       "      <td>unknown</td>\n",
       "      <td>5</td>\n",
       "      <td>may</td>\n",
       "      <td>261</td>\n",
       "      <td>1</td>\n",
       "      <td>-1</td>\n",
       "      <td>0</td>\n",
       "      <td>unknown</td>\n",
       "      <td>0</td>\n",
       "      <td>3.0</td>\n",
       "      <td>3.0</td>\n",
       "    </tr>\n",
       "    <tr>\n",
       "      <th>1</th>\n",
       "      <td>44</td>\n",
       "      <td>technician</td>\n",
       "      <td>single</td>\n",
       "      <td>secondary</td>\n",
       "      <td>no</td>\n",
       "      <td>29</td>\n",
       "      <td>yes</td>\n",
       "      <td>no</td>\n",
       "      <td>unknown</td>\n",
       "      <td>5</td>\n",
       "      <td>may</td>\n",
       "      <td>151</td>\n",
       "      <td>1</td>\n",
       "      <td>-1</td>\n",
       "      <td>0</td>\n",
       "      <td>unknown</td>\n",
       "      <td>0</td>\n",
       "      <td>2.0</td>\n",
       "      <td>2.0</td>\n",
       "    </tr>\n",
       "    <tr>\n",
       "      <th>2</th>\n",
       "      <td>33</td>\n",
       "      <td>entrepreneur</td>\n",
       "      <td>married</td>\n",
       "      <td>secondary</td>\n",
       "      <td>no</td>\n",
       "      <td>2</td>\n",
       "      <td>yes</td>\n",
       "      <td>yes</td>\n",
       "      <td>unknown</td>\n",
       "      <td>5</td>\n",
       "      <td>may</td>\n",
       "      <td>76</td>\n",
       "      <td>1</td>\n",
       "      <td>-1</td>\n",
       "      <td>0</td>\n",
       "      <td>unknown</td>\n",
       "      <td>0</td>\n",
       "      <td>2.0</td>\n",
       "      <td>2.0</td>\n",
       "    </tr>\n",
       "    <tr>\n",
       "      <th>3</th>\n",
       "      <td>47</td>\n",
       "      <td>blue-collar</td>\n",
       "      <td>married</td>\n",
       "      <td>secondary</td>\n",
       "      <td>no</td>\n",
       "      <td>1506</td>\n",
       "      <td>yes</td>\n",
       "      <td>no</td>\n",
       "      <td>unknown</td>\n",
       "      <td>5</td>\n",
       "      <td>may</td>\n",
       "      <td>92</td>\n",
       "      <td>1</td>\n",
       "      <td>-1</td>\n",
       "      <td>0</td>\n",
       "      <td>unknown</td>\n",
       "      <td>0</td>\n",
       "      <td>NaN</td>\n",
       "      <td>2.0</td>\n",
       "    </tr>\n",
       "    <tr>\n",
       "      <th>4</th>\n",
       "      <td>33</td>\n",
       "      <td>admin.</td>\n",
       "      <td>single</td>\n",
       "      <td>secondary</td>\n",
       "      <td>no</td>\n",
       "      <td>1</td>\n",
       "      <td>no</td>\n",
       "      <td>no</td>\n",
       "      <td>unknown</td>\n",
       "      <td>5</td>\n",
       "      <td>may</td>\n",
       "      <td>198</td>\n",
       "      <td>1</td>\n",
       "      <td>-1</td>\n",
       "      <td>0</td>\n",
       "      <td>unknown</td>\n",
       "      <td>0</td>\n",
       "      <td>NaN</td>\n",
       "      <td>2.0</td>\n",
       "    </tr>\n",
       "  </tbody>\n",
       "</table>\n",
       "</div>"
      ],
      "text/plain": [
       "   age           job  marital  education default  balance housing loan  \\\n",
       "0   58    management  married   tertiary      no     2143     yes   no   \n",
       "1   44    technician   single  secondary      no       29     yes   no   \n",
       "2   33  entrepreneur  married  secondary      no        2     yes  yes   \n",
       "3   47   blue-collar  married  secondary      no     1506     yes   no   \n",
       "4   33        admin.   single  secondary      no        1      no   no   \n",
       "\n",
       "   contact  day month  duration  campaign  pdays  previous poutcome  y  \\\n",
       "0  unknown    5   may       261         1     -1         0  unknown  0   \n",
       "1  unknown    5   may       151         1     -1         0  unknown  0   \n",
       "2  unknown    5   may        76         1     -1         0  unknown  0   \n",
       "3  unknown    5   may        92         1     -1         0  unknown  0   \n",
       "4  unknown    5   may       198         1     -1         0  unknown  0   \n",
       "\n",
       "   education_ordinal  education_ordinal_imputed  \n",
       "0                3.0                        3.0  \n",
       "1                2.0                        2.0  \n",
       "2                2.0                        2.0  \n",
       "3                NaN                        2.0  \n",
       "4                NaN                        2.0  "
      ]
     },
     "execution_count": 489,
     "metadata": {},
     "output_type": "execute_result"
    }
   ],
   "source": [
    "# Setup the Iterative Imputer\n",
    "imputer = IterativeImputer(estimator=BayesianRidge(), max_iter=10, random_state=0)\n",
    "\n",
    "# Impute missing values in the 'education_ordinal' column\n",
    "df['education_ordinal_imputed'] = imputer.fit_transform(df[['education_ordinal']])\n",
    "\n",
    "# Round the imputed values to the nearest integer\n",
    "df['education_ordinal_imputed'] = np.round(df['education_ordinal_imputed'])\n",
    "\n",
    "# Create a reverse map from ordinal numbers back to education labels\n",
    "inverse_education_map = {v: k for k, v in education_map.items() if v is not None}\n",
    "\n",
    "# Correct the mapping: Use 'education_ordinal_imputed' to update 'education'\n",
    "df['education'] = df['education_ordinal_imputed'].map(inverse_education_map)\n",
    "\n",
    "df.head()"
   ]
  },
  {
   "cell_type": "markdown",
   "metadata": {},
   "source": [
    "### Handle 'unknown' values in column 'contact'"
   ]
  },
  {
   "cell_type": "code",
   "execution_count": 490,
   "metadata": {},
   "outputs": [
    {
     "data": {
      "text/plain": [
       "contact\n",
       "cellular     29285\n",
       "unknown      13020\n",
       "telephone     2906\n",
       "Name: count, dtype: int64"
      ]
     },
     "execution_count": 490,
     "metadata": {},
     "output_type": "execute_result"
    }
   ],
   "source": [
    "df['contact'].value_counts()"
   ]
  },
  {
   "cell_type": "markdown",
   "metadata": {},
   "source": [
    "<div style=\"background-color: yellow; color: black; padding: 10px;\">\n",
    "    'contact' represents contact communication type. Since there is no way of finding the substitute for unknown values, we will remove column 'contact'.\n",
    "</div>"
   ]
  },
  {
   "cell_type": "code",
   "execution_count": 491,
   "metadata": {},
   "outputs": [],
   "source": [
    "# Remove 'contact' column\n",
    "df.drop('contact', axis=1, inplace=True)"
   ]
  },
  {
   "cell_type": "markdown",
   "metadata": {},
   "source": [
    "### Handle -1 values in column 'pdays'"
   ]
  },
  {
   "cell_type": "code",
   "execution_count": 492,
   "metadata": {},
   "outputs": [
    {
     "data": {
      "text/plain": [
       "pdays\n",
       "-1      36954\n",
       " 182      167\n",
       " 92       147\n",
       " 91       126\n",
       " 183      126\n",
       "        ...  \n",
       " 449        1\n",
       " 452        1\n",
       " 648        1\n",
       " 595        1\n",
       " 530        1\n",
       "Name: count, Length: 559, dtype: int64"
      ]
     },
     "execution_count": 492,
     "metadata": {},
     "output_type": "execute_result"
    }
   ],
   "source": [
    "df['pdays'].value_counts()"
   ]
  },
  {
   "cell_type": "markdown",
   "metadata": {},
   "source": [
    "<div style=\"background-color: yellow; color: black; padding: 10px;\">\n",
    "    -1 means client was not previously contacted.\n",
    "</div>"
   ]
  },
  {
   "cell_type": "markdown",
   "metadata": {},
   "source": [
    "### Handle 'unknown' values in column 'poutcome'"
   ]
  },
  {
   "cell_type": "code",
   "execution_count": 493,
   "metadata": {},
   "outputs": [
    {
     "data": {
      "text/plain": [
       "poutcome\n",
       "unknown    36959\n",
       "failure     4901\n",
       "other       1840\n",
       "success     1511\n",
       "Name: count, dtype: int64"
      ]
     },
     "execution_count": 493,
     "metadata": {},
     "output_type": "execute_result"
    }
   ],
   "source": [
    "df['poutcome'].value_counts()"
   ]
  },
  {
   "cell_type": "markdown",
   "metadata": {},
   "source": [
    "<div style=\"background-color: yellow; color: black; padding: 10px;\">\n",
    "    Cases where client was not previously contacted (pdays equals -1), outcome of the previous marketing campaign is bound to be unknown.\n",
    "</div>"
   ]
  },
  {
   "cell_type": "markdown",
   "metadata": {},
   "source": [
    "#### Remove rows where client was previously contacted and the outcome is unknown."
   ]
  },
  {
   "cell_type": "code",
   "execution_count": 494,
   "metadata": {},
   "outputs": [
    {
     "data": {
      "text/plain": [
       "(45206, 18)"
      ]
     },
     "execution_count": 494,
     "metadata": {},
     "output_type": "execute_result"
    }
   ],
   "source": [
    "# Removing rows where the client was previously contacted (pdays > 0) and the outcome is unknown\n",
    "df = df[~((df['pdays'] > 0) & (df['poutcome'] == 'unknown'))]\n",
    "df.shape"
   ]
  },
  {
   "cell_type": "code",
   "execution_count": 495,
   "metadata": {},
   "outputs": [],
   "source": [
    "# Drop 'education', 'education_ordinal', 'education_ordinal_imputed' columns\n",
    "df.drop(['education_ordinal', 'education_ordinal_imputed'], axis=1, inplace=True)"
   ]
  },
  {
   "cell_type": "markdown",
   "metadata": {},
   "source": [
    "# Dealing with categorical features\n",
    "Choosing the right type of encoding for categorical variables depends on several factors, including the number of unique values in the column (cardinality), the nature of the categories (ordinal vs nominal). \n",
    "- With ordinal data, the order of the categories carries important information and should be preserved in any encoding. Example, Ratings (e.g., poor, fair, good, very good, excellent). \n",
    "- Nominal data (also known as categorical data) refers to categories that do not have any intrinsic ordering. The categories are distinct and there's no relationship or hierarchy among them. Common examples include: Colors (e.g., red, blue, green), Gender (e.g., male, female, non-binary)"
   ]
  },
  {
   "cell_type": "code",
   "execution_count": 496,
   "metadata": {},
   "outputs": [
    {
     "data": {
      "text/html": [
       "<div>\n",
       "<style scoped>\n",
       "    .dataframe tbody tr th:only-of-type {\n",
       "        vertical-align: middle;\n",
       "    }\n",
       "\n",
       "    .dataframe tbody tr th {\n",
       "        vertical-align: top;\n",
       "    }\n",
       "\n",
       "    .dataframe thead th {\n",
       "        text-align: right;\n",
       "    }\n",
       "</style>\n",
       "<table border=\"1\" class=\"dataframe\">\n",
       "  <thead>\n",
       "    <tr style=\"text-align: right;\">\n",
       "      <th></th>\n",
       "      <th>age</th>\n",
       "      <th>job</th>\n",
       "      <th>marital</th>\n",
       "      <th>education</th>\n",
       "      <th>default</th>\n",
       "      <th>balance</th>\n",
       "      <th>housing</th>\n",
       "      <th>loan</th>\n",
       "      <th>day</th>\n",
       "      <th>month</th>\n",
       "      <th>duration</th>\n",
       "      <th>campaign</th>\n",
       "      <th>pdays</th>\n",
       "      <th>previous</th>\n",
       "      <th>poutcome</th>\n",
       "      <th>y</th>\n",
       "    </tr>\n",
       "  </thead>\n",
       "  <tbody>\n",
       "    <tr>\n",
       "      <th>0</th>\n",
       "      <td>58</td>\n",
       "      <td>management</td>\n",
       "      <td>married</td>\n",
       "      <td>tertiary</td>\n",
       "      <td>no</td>\n",
       "      <td>2143</td>\n",
       "      <td>yes</td>\n",
       "      <td>no</td>\n",
       "      <td>5</td>\n",
       "      <td>may</td>\n",
       "      <td>261</td>\n",
       "      <td>1</td>\n",
       "      <td>-1</td>\n",
       "      <td>0</td>\n",
       "      <td>unknown</td>\n",
       "      <td>0</td>\n",
       "    </tr>\n",
       "    <tr>\n",
       "      <th>1</th>\n",
       "      <td>44</td>\n",
       "      <td>technician</td>\n",
       "      <td>single</td>\n",
       "      <td>secondary</td>\n",
       "      <td>no</td>\n",
       "      <td>29</td>\n",
       "      <td>yes</td>\n",
       "      <td>no</td>\n",
       "      <td>5</td>\n",
       "      <td>may</td>\n",
       "      <td>151</td>\n",
       "      <td>1</td>\n",
       "      <td>-1</td>\n",
       "      <td>0</td>\n",
       "      <td>unknown</td>\n",
       "      <td>0</td>\n",
       "    </tr>\n",
       "    <tr>\n",
       "      <th>2</th>\n",
       "      <td>33</td>\n",
       "      <td>entrepreneur</td>\n",
       "      <td>married</td>\n",
       "      <td>secondary</td>\n",
       "      <td>no</td>\n",
       "      <td>2</td>\n",
       "      <td>yes</td>\n",
       "      <td>yes</td>\n",
       "      <td>5</td>\n",
       "      <td>may</td>\n",
       "      <td>76</td>\n",
       "      <td>1</td>\n",
       "      <td>-1</td>\n",
       "      <td>0</td>\n",
       "      <td>unknown</td>\n",
       "      <td>0</td>\n",
       "    </tr>\n",
       "    <tr>\n",
       "      <th>3</th>\n",
       "      <td>47</td>\n",
       "      <td>blue-collar</td>\n",
       "      <td>married</td>\n",
       "      <td>secondary</td>\n",
       "      <td>no</td>\n",
       "      <td>1506</td>\n",
       "      <td>yes</td>\n",
       "      <td>no</td>\n",
       "      <td>5</td>\n",
       "      <td>may</td>\n",
       "      <td>92</td>\n",
       "      <td>1</td>\n",
       "      <td>-1</td>\n",
       "      <td>0</td>\n",
       "      <td>unknown</td>\n",
       "      <td>0</td>\n",
       "    </tr>\n",
       "    <tr>\n",
       "      <th>4</th>\n",
       "      <td>33</td>\n",
       "      <td>admin.</td>\n",
       "      <td>single</td>\n",
       "      <td>secondary</td>\n",
       "      <td>no</td>\n",
       "      <td>1</td>\n",
       "      <td>no</td>\n",
       "      <td>no</td>\n",
       "      <td>5</td>\n",
       "      <td>may</td>\n",
       "      <td>198</td>\n",
       "      <td>1</td>\n",
       "      <td>-1</td>\n",
       "      <td>0</td>\n",
       "      <td>unknown</td>\n",
       "      <td>0</td>\n",
       "    </tr>\n",
       "  </tbody>\n",
       "</table>\n",
       "</div>"
      ],
      "text/plain": [
       "   age           job  marital  education default  balance housing loan  day  \\\n",
       "0   58    management  married   tertiary      no     2143     yes   no    5   \n",
       "1   44    technician   single  secondary      no       29     yes   no    5   \n",
       "2   33  entrepreneur  married  secondary      no        2     yes  yes    5   \n",
       "3   47   blue-collar  married  secondary      no     1506     yes   no    5   \n",
       "4   33        admin.   single  secondary      no        1      no   no    5   \n",
       "\n",
       "  month  duration  campaign  pdays  previous poutcome  y  \n",
       "0   may       261         1     -1         0  unknown  0  \n",
       "1   may       151         1     -1         0  unknown  0  \n",
       "2   may        76         1     -1         0  unknown  0  \n",
       "3   may        92         1     -1         0  unknown  0  \n",
       "4   may       198         1     -1         0  unknown  0  "
      ]
     },
     "execution_count": 496,
     "metadata": {},
     "output_type": "execute_result"
    }
   ],
   "source": [
    "df.head()"
   ]
  },
  {
   "cell_type": "markdown",
   "metadata": {},
   "source": [
    "### One-hot Encoding\n",
    "Nominal data: marital, poutcome"
   ]
  },
  {
   "cell_type": "code",
   "execution_count": 497,
   "metadata": {},
   "outputs": [],
   "source": [
    "# Apply one-hot encoding to specified columns\n",
    "df_encoded = pd.get_dummies(df, columns=['marital', 'poutcome'])"
   ]
  },
  {
   "cell_type": "markdown",
   "metadata": {},
   "source": [
    "### Binary Encoding"
   ]
  },
  {
   "cell_type": "code",
   "execution_count": 498,
   "metadata": {},
   "outputs": [],
   "source": [
    "df_encoded[['default', 'housing', 'loan']] = df_encoded[['default', 'housing', 'loan']].apply(lambda x: x.map({'yes': 1, 'no': 0}))"
   ]
  },
  {
   "cell_type": "markdown",
   "metadata": {},
   "source": [
    "### Label Encoding\n",
    "Nominal data with high cardinality: month"
   ]
  },
  {
   "cell_type": "code",
   "execution_count": 499,
   "metadata": {},
   "outputs": [],
   "source": [
    "# Instantiate the LabelEncoder\n",
    "encoder = LabelEncoder()\n",
    "\n",
    "# Apply LabelEncoder to multiple columns\n",
    "df_encoded['month'] = encoder.fit_transform(df_encoded['month'])\n",
    "df_encoded['job'] = encoder.fit_transform(df_encoded['job'])"
   ]
  },
  {
   "cell_type": "markdown",
   "metadata": {},
   "source": [
    "### Ordinal Encoding\n",
    "Ordinal data: education"
   ]
  },
  {
   "cell_type": "code",
   "execution_count": 500,
   "metadata": {},
   "outputs": [],
   "source": [
    "# Define the mapping from category to integer\n",
    "education_mapping = {\n",
    "    'primary': 1,\n",
    "    'secondary': 2,\n",
    "    'tertiary': 3\n",
    "}\n",
    "\n",
    "# Apply the mapping to the 'education' column\n",
    "df_encoded['education'] = df_encoded['education'].map(education_mapping)"
   ]
  },
  {
   "cell_type": "markdown",
   "metadata": {},
   "source": [
    "### Final Encoded Data"
   ]
  },
  {
   "cell_type": "code",
   "execution_count": 501,
   "metadata": {},
   "outputs": [
    {
     "data": {
      "text/plain": [
       "(45206, 21)"
      ]
     },
     "execution_count": 501,
     "metadata": {},
     "output_type": "execute_result"
    }
   ],
   "source": [
    "df_encoded.shape"
   ]
  },
  {
   "cell_type": "markdown",
   "metadata": {},
   "source": [
    "# Feature Selection\n",
    "Drop the attributes that provide no useful information for the task.\n",
    "- Irrelevant features may have negative effect on a model\n",
    "- Correlated features can make coefficients in regression (or feature importance in tree-based models) unstable or difficult to interpret"
   ]
  },
  {
   "cell_type": "code",
   "execution_count": 502,
   "metadata": {},
   "outputs": [
    {
     "data": {
      "text/html": [
       "<div>\n",
       "<style scoped>\n",
       "    .dataframe tbody tr th:only-of-type {\n",
       "        vertical-align: middle;\n",
       "    }\n",
       "\n",
       "    .dataframe tbody tr th {\n",
       "        vertical-align: top;\n",
       "    }\n",
       "\n",
       "    .dataframe thead th {\n",
       "        text-align: right;\n",
       "    }\n",
       "</style>\n",
       "<table border=\"1\" class=\"dataframe\">\n",
       "  <thead>\n",
       "    <tr style=\"text-align: right;\">\n",
       "      <th></th>\n",
       "      <th>age</th>\n",
       "      <th>job</th>\n",
       "      <th>education</th>\n",
       "      <th>default</th>\n",
       "      <th>balance</th>\n",
       "      <th>housing</th>\n",
       "      <th>loan</th>\n",
       "      <th>day</th>\n",
       "      <th>month</th>\n",
       "      <th>duration</th>\n",
       "      <th>...</th>\n",
       "      <th>pdays</th>\n",
       "      <th>previous</th>\n",
       "      <th>y</th>\n",
       "      <th>marital_divorced</th>\n",
       "      <th>marital_married</th>\n",
       "      <th>marital_single</th>\n",
       "      <th>poutcome_failure</th>\n",
       "      <th>poutcome_other</th>\n",
       "      <th>poutcome_success</th>\n",
       "      <th>poutcome_unknown</th>\n",
       "    </tr>\n",
       "  </thead>\n",
       "  <tbody>\n",
       "    <tr>\n",
       "      <th>0</th>\n",
       "      <td>58</td>\n",
       "      <td>4</td>\n",
       "      <td>3</td>\n",
       "      <td>0</td>\n",
       "      <td>2143</td>\n",
       "      <td>1</td>\n",
       "      <td>0</td>\n",
       "      <td>5</td>\n",
       "      <td>8</td>\n",
       "      <td>261</td>\n",
       "      <td>...</td>\n",
       "      <td>-1</td>\n",
       "      <td>0</td>\n",
       "      <td>0</td>\n",
       "      <td>False</td>\n",
       "      <td>True</td>\n",
       "      <td>False</td>\n",
       "      <td>False</td>\n",
       "      <td>False</td>\n",
       "      <td>False</td>\n",
       "      <td>True</td>\n",
       "    </tr>\n",
       "    <tr>\n",
       "      <th>1</th>\n",
       "      <td>44</td>\n",
       "      <td>9</td>\n",
       "      <td>2</td>\n",
       "      <td>0</td>\n",
       "      <td>29</td>\n",
       "      <td>1</td>\n",
       "      <td>0</td>\n",
       "      <td>5</td>\n",
       "      <td>8</td>\n",
       "      <td>151</td>\n",
       "      <td>...</td>\n",
       "      <td>-1</td>\n",
       "      <td>0</td>\n",
       "      <td>0</td>\n",
       "      <td>False</td>\n",
       "      <td>False</td>\n",
       "      <td>True</td>\n",
       "      <td>False</td>\n",
       "      <td>False</td>\n",
       "      <td>False</td>\n",
       "      <td>True</td>\n",
       "    </tr>\n",
       "    <tr>\n",
       "      <th>2</th>\n",
       "      <td>33</td>\n",
       "      <td>2</td>\n",
       "      <td>2</td>\n",
       "      <td>0</td>\n",
       "      <td>2</td>\n",
       "      <td>1</td>\n",
       "      <td>1</td>\n",
       "      <td>5</td>\n",
       "      <td>8</td>\n",
       "      <td>76</td>\n",
       "      <td>...</td>\n",
       "      <td>-1</td>\n",
       "      <td>0</td>\n",
       "      <td>0</td>\n",
       "      <td>False</td>\n",
       "      <td>True</td>\n",
       "      <td>False</td>\n",
       "      <td>False</td>\n",
       "      <td>False</td>\n",
       "      <td>False</td>\n",
       "      <td>True</td>\n",
       "    </tr>\n",
       "    <tr>\n",
       "      <th>3</th>\n",
       "      <td>47</td>\n",
       "      <td>1</td>\n",
       "      <td>2</td>\n",
       "      <td>0</td>\n",
       "      <td>1506</td>\n",
       "      <td>1</td>\n",
       "      <td>0</td>\n",
       "      <td>5</td>\n",
       "      <td>8</td>\n",
       "      <td>92</td>\n",
       "      <td>...</td>\n",
       "      <td>-1</td>\n",
       "      <td>0</td>\n",
       "      <td>0</td>\n",
       "      <td>False</td>\n",
       "      <td>True</td>\n",
       "      <td>False</td>\n",
       "      <td>False</td>\n",
       "      <td>False</td>\n",
       "      <td>False</td>\n",
       "      <td>True</td>\n",
       "    </tr>\n",
       "    <tr>\n",
       "      <th>4</th>\n",
       "      <td>33</td>\n",
       "      <td>0</td>\n",
       "      <td>2</td>\n",
       "      <td>0</td>\n",
       "      <td>1</td>\n",
       "      <td>0</td>\n",
       "      <td>0</td>\n",
       "      <td>5</td>\n",
       "      <td>8</td>\n",
       "      <td>198</td>\n",
       "      <td>...</td>\n",
       "      <td>-1</td>\n",
       "      <td>0</td>\n",
       "      <td>0</td>\n",
       "      <td>False</td>\n",
       "      <td>False</td>\n",
       "      <td>True</td>\n",
       "      <td>False</td>\n",
       "      <td>False</td>\n",
       "      <td>False</td>\n",
       "      <td>True</td>\n",
       "    </tr>\n",
       "  </tbody>\n",
       "</table>\n",
       "<p>5 rows × 21 columns</p>\n",
       "</div>"
      ],
      "text/plain": [
       "   age  job  education  default  balance  housing  loan  day  month  duration  \\\n",
       "0   58    4          3        0     2143        1     0    5      8       261   \n",
       "1   44    9          2        0       29        1     0    5      8       151   \n",
       "2   33    2          2        0        2        1     1    5      8        76   \n",
       "3   47    1          2        0     1506        1     0    5      8        92   \n",
       "4   33    0          2        0        1        0     0    5      8       198   \n",
       "\n",
       "   ...  pdays  previous  y  marital_divorced  marital_married  marital_single  \\\n",
       "0  ...     -1         0  0             False             True           False   \n",
       "1  ...     -1         0  0             False            False            True   \n",
       "2  ...     -1         0  0             False             True           False   \n",
       "3  ...     -1         0  0             False             True           False   \n",
       "4  ...     -1         0  0             False            False            True   \n",
       "\n",
       "   poutcome_failure  poutcome_other  poutcome_success  poutcome_unknown  \n",
       "0             False           False             False              True  \n",
       "1             False           False             False              True  \n",
       "2             False           False             False              True  \n",
       "3             False           False             False              True  \n",
       "4             False           False             False              True  \n",
       "\n",
       "[5 rows x 21 columns]"
      ]
     },
     "execution_count": 502,
     "metadata": {},
     "output_type": "execute_result"
    }
   ],
   "source": [
    "df_encoded.head()"
   ]
  },
  {
   "cell_type": "code",
   "execution_count": 503,
   "metadata": {},
   "outputs": [
    {
     "name": "stdout",
     "output_type": "stream",
     "text": [
      "<class 'pandas.core.frame.DataFrame'>\n",
      "Index: 45206 entries, 0 to 45210\n",
      "Data columns (total 21 columns):\n",
      " #   Column            Non-Null Count  Dtype\n",
      "---  ------            --------------  -----\n",
      " 0   age               45206 non-null  int64\n",
      " 1   job               45206 non-null  int64\n",
      " 2   education         45206 non-null  int64\n",
      " 3   default           45206 non-null  int64\n",
      " 4   balance           45206 non-null  int64\n",
      " 5   housing           45206 non-null  int64\n",
      " 6   loan              45206 non-null  int64\n",
      " 7   day               45206 non-null  int64\n",
      " 8   month             45206 non-null  int64\n",
      " 9   duration          45206 non-null  int64\n",
      " 10  campaign          45206 non-null  int64\n",
      " 11  pdays             45206 non-null  int64\n",
      " 12  previous          45206 non-null  int64\n",
      " 13  y                 45206 non-null  int64\n",
      " 14  marital_divorced  45206 non-null  bool \n",
      " 15  marital_married   45206 non-null  bool \n",
      " 16  marital_single    45206 non-null  bool \n",
      " 17  poutcome_failure  45206 non-null  bool \n",
      " 18  poutcome_other    45206 non-null  bool \n",
      " 19  poutcome_success  45206 non-null  bool \n",
      " 20  poutcome_unknown  45206 non-null  bool \n",
      "dtypes: bool(7), int64(14)\n",
      "memory usage: 5.5 MB\n"
     ]
    }
   ],
   "source": [
    "df_encoded.info()"
   ]
  },
  {
   "cell_type": "markdown",
   "metadata": {},
   "source": [
    "## Collinearity\n",
    "Collinearity (also Multicollinearity) is a phenomenon in which one feature in a model can be linearly predicted from the others with a substantial degree of accuracy."
   ]
  },
  {
   "cell_type": "code",
   "execution_count": 504,
   "metadata": {},
   "outputs": [
    {
     "name": "stdout",
     "output_type": "stream",
     "text": [
      "            variable        VIF\n",
      "0                age  12.595972\n",
      "2          education   8.464342\n",
      "7                day   4.466182\n",
      "8              month   4.450212\n",
      "15   marital_married   3.873756\n",
      "1                job   2.839992\n",
      "5            housing   2.533529\n",
      "9           duration   2.360398\n",
      "10          campaign   1.862553\n",
      "14  marital_divorced   1.607897\n",
      "11             pdays   1.543271\n",
      "13                 y   1.537017\n",
      "12          previous   1.360025\n",
      "4            balance   1.239731\n",
      "16  poutcome_success   1.226413\n",
      "6               loan   1.211553\n",
      "3            default   1.029508\n"
     ]
    }
   ],
   "source": [
    "# Convert Boolean columns to integer\n",
    "bool_cols = ['marital_divorced', 'marital_married', 'poutcome_success']\n",
    "df_encoded[bool_cols] = df_encoded[bool_cols].astype(int)\n",
    "\n",
    "# Calculate VIF, excluding non-numeric columns or those not relevant for VIF calculation\n",
    "numeric_cols = df_encoded.select_dtypes(include=[np.number]).columns  # Select only numeric columns\n",
    "VIF_df = pd.DataFrame({\n",
    "    \"variable\": numeric_cols,\n",
    "    \"VIF\": [variance_inflation_factor(df_encoded[numeric_cols].values, i) for i in range(df_encoded[numeric_cols].shape[1])]\n",
    "})\n",
    "print(VIF_df.sort_values(by=\"VIF\", ascending=False))"
   ]
  },
  {
   "cell_type": "markdown",
   "metadata": {},
   "source": [
    "<div style=\"background-color: yellow; color: black; padding: 10px;\">\n",
    "    High degree of multicollinearity for age. Significant multicollinearity for education.\n",
    "</div>"
   ]
  },
  {
   "cell_type": "markdown",
   "metadata": {},
   "source": [
    "## Mutual Information\n",
    "Mutual Information quantifies the amount of information gained by observing another feature. \\\n",
    "If the value is zero, then there is no relation between them. \\\n",
    "Sklearn provides nonparametric test that will use k-nearest neighbour to determine the Mutual Information between features and target.\n"
   ]
  },
  {
   "cell_type": "code",
   "execution_count": 505,
   "metadata": {},
   "outputs": [
    {
     "data": {
      "image/png": "[encoded data removed]",
      "text/plain": [
       "<Figure size 1000x800 with 1 Axes>"
      ]
     },
     "metadata": {},
     "output_type": "display_data"
    }
   ],
   "source": [
    "# Separate features and target\n",
    "X = df_encoded.drop('y', axis=1)\n",
    "y = df_encoded['y']\n",
    "\n",
    "# Calculate Mutual Information\n",
    "mic = feature_selection.mutual_info_classif(X, y)\n",
    "\n",
    "# Create a DataFrame for the visualization\n",
    "mi_df = pd.DataFrame({\"feature\": X.columns, \"vimp\": mic}).set_index(\"feature\")\n",
    "\n",
    "# Plotting\n",
    "fig, ax = plt.subplots(figsize=(10, 8))\n",
    "mi_df.plot.barh(ax=ax)\n",
    "plt.title('Mutual Information Scores')\n",
    "plt.xlabel('Mutual Information Score')\n",
    "plt.ylabel('Features')\n",
    "plt.show()"
   ]
  },
  {
   "cell_type": "markdown",
   "metadata": {},
   "source": [
    "<div style=\"background-color: yellow; color: black; padding: 10px;\">\n",
    "    duration highly affects the output. e.g., if duration=0 then y='no'\n",
    "</div>"
   ]
  },
  {
   "cell_type": "markdown",
   "metadata": {},
   "source": [
    "## Lasso Regression\n",
    "Using lasso regression, we can set an alpha parameter that acts as a regularization parameter. \\\n",
    "As we increase the value, it gives less weight to features that are less important."
   ]
  },
  {
   "cell_type": "code",
   "execution_count": 506,
   "metadata": {},
   "outputs": [
    {
     "data": {
      "image/png": "[encoded data removed]",
      "text/plain": [
       "<Figure size 1200x800 with 1 Axes>"
      ]
     },
     "metadata": {},
     "output_type": "display_data"
    }
   ],
   "source": [
    "scaler = StandardScaler()\n",
    "X_scaled = scaler.fit_transform(X)\n",
    "\n",
    "# Convert the scaled array back into a DataFrame\n",
    "X_scaled = pd.DataFrame(X_scaled, columns=X.columns)\n",
    "\n",
    "# Separate the target variable\n",
    "y = df['y'].values\n",
    "\n",
    "# Perform train-test split\n",
    "X_train, X_test, y_train, y_test = train_test_split(X_scaled, y, test_size=0.2, random_state=42)\n",
    "\n",
    "# Initialize and fit the LassoCV model\n",
    "lasso = LassoCV(cv=10, random_state=42, max_iter=10000).fit(X_train, y_train)\n",
    "\n",
    "# Plot the coefficient progression\n",
    "plt.figure(figsize=(12, 8))\n",
    "plt.plot(lasso.alphas_, lasso.mse_path_, ':')\n",
    "plt.plot(lasso.alphas_, lasso.mse_path_.mean(axis=-1), 'k',\n",
    "         label='Average across the folds', linewidth=2)\n",
    "plt.axvline(lasso.alpha_, linestyle='--', color='k',\n",
    "            label='alpha: CV estimate')\n",
    "\n",
    "plt.legend()\n",
    "plt.xlabel('alpha')\n",
    "plt.ylabel('Mean square error')\n",
    "plt.title('Mean square error on each fold: coordinate descent')\n",
    "plt.axis('tight')\n",
    "plt.show()"
   ]
  },
  {
   "cell_type": "code",
   "execution_count": 507,
   "metadata": {},
   "outputs": [
    {
     "name": "stdout",
     "output_type": "stream",
     "text": [
      "housing            -0.035187\n",
      "poutcome_unknown   -0.017735\n",
      "loan               -0.010891\n",
      "campaign           -0.005209\n",
      "marital_married    -0.004665\n",
      "default            -0.001151\n",
      "day                -0.000781\n",
      "month              -0.000267\n",
      "poutcome_failure    0.000000\n",
      "pdays               0.000000\n",
      "marital_divorced    0.000000\n",
      "job                 0.002697\n",
      "previous            0.003434\n",
      "balance             0.004576\n",
      "poutcome_other      0.005118\n",
      "age                 0.006614\n",
      "marital_single      0.010419\n",
      "education           0.010714\n",
      "poutcome_success    0.080181\n",
      "duration            0.121079\n",
      "dtype: float64\n"
     ]
    }
   ],
   "source": [
    "# Retrieve the coefficient of the features\n",
    "coefficients = pd.Series(lasso.coef_, index=X.columns)\n",
    "\n",
    "# Print out the coefficients\n",
    "print(coefficients.sort_values())"
   ]
  },
  {
   "cell_type": "markdown",
   "metadata": {},
   "source": [
    "<div style=\"background-color: yellow; color: black; padding: 10px;\">\n",
    "    A coefficient of 0 means that the feature is not contributing to the model at all. Lasso has removed it during the regularization process. For instance, poutcome_failure, pdays, and marital_divorced have zero coefficients, implying that they do not have any linear predictive value with the target variable in the presence of the other variables.\n",
    "</div>"
   ]
  },
  {
   "cell_type": "markdown",
   "metadata": {},
   "source": [
    "<div style=\"background-color: yellow; color: black; padding: 10px;\">\n",
    "    The larger the absolute value of the coefficient, the more significant the feature's impact on the target variable. duration has the highest positive coefficient (0.121079), signifying it has the most substantial positive effect on the target variable among all the features.\n",
    "</div>"
   ]
  },
  {
   "cell_type": "markdown",
   "metadata": {},
   "source": [
    "## Tree-based Feature Selection"
   ]
  },
  {
   "cell_type": "code",
   "execution_count": 508,
   "metadata": {},
   "outputs": [
    {
     "name": "stdout",
     "output_type": "stream",
     "text": [
      "Feature Importances: [0.10653111 0.05970833 0.02719001 0.00279345 0.10425708 0.02306046\n",
      " 0.00909121 0.10022021 0.09316183 0.25402077 0.0628576  0.02913139\n",
      " 0.01993722 0.00425923 0.00600799 0.00570575 0.00793775 0.00408642\n",
      " 0.06627883 0.01376337]\n",
      "Original number of features: 20\n",
      "Reduced number of features: 8\n"
     ]
    }
   ],
   "source": [
    "# Define the classifier and fit to the data\n",
    "clf = ExtraTreesClassifier(n_estimators=50, random_state=42)\n",
    "clf = clf.fit(X, y)\n",
    "\n",
    "# Print the feature importances\n",
    "print(\"Feature Importances:\", clf.feature_importances_)\n",
    "\n",
    "# Use SelectFromModel to select features based on importance weights\n",
    "model = SelectFromModel(clf, prefit=True)\n",
    "\n",
    "# Transform the dataset to the selected features\n",
    "X_new = model.transform(X)\n",
    "\n",
    "# The shape of X_new will tell you how many features are selected\n",
    "print(\"Original number of features:\", X.shape[1])\n",
    "print(\"Reduced number of features:\", X_new.shape[1])"
   ]
  },
  {
   "cell_type": "code",
   "execution_count": 509,
   "metadata": {},
   "outputs": [
    {
     "name": "stdout",
     "output_type": "stream",
     "text": [
      "Feature Importance Scores:\n",
      "duration            0.254021\n",
      "age                 0.106531\n",
      "balance             0.104257\n",
      "day                 0.100220\n",
      "month               0.093162\n",
      "poutcome_success    0.066279\n",
      "campaign            0.062858\n",
      "job                 0.059708\n",
      "pdays               0.029131\n",
      "education           0.027190\n",
      "housing             0.023060\n",
      "previous            0.019937\n",
      "poutcome_unknown    0.013763\n",
      "loan                0.009091\n",
      "poutcome_failure    0.007938\n",
      "marital_married     0.006008\n",
      "marital_single      0.005706\n",
      "marital_divorced    0.004259\n",
      "poutcome_other      0.004086\n",
      "default             0.002793\n",
      "dtype: float64\n"
     ]
    }
   ],
   "source": [
    "# Get the feature importances\n",
    "feature_importances = clf.feature_importances_\n",
    "\n",
    "# Create a pandas series to view the feature importances with the feature names\n",
    "feature_importances_series = pd.Series(feature_importances, index=X.columns)\n",
    "\n",
    "# Output the feature importance scores for each feature\n",
    "print(\"Feature Importance Scores:\")\n",
    "print(feature_importances_series.sort_values(ascending=False))"
   ]
  },
  {
   "cell_type": "markdown",
   "metadata": {},
   "source": [
    "Higher scores indicate greater importance. The sum of all scores typically equals 1.0, with each score representing the proportion of predictive information the feature contributes to the model."
   ]
  },
  {
   "cell_type": "markdown",
   "metadata": {},
   "source": [
    "<div style=\"background-color: yellow; color: black; padding: 10px;\">\n",
    "    Least Important Features (default, marital_divorced, poutcome_other, etc.): With importance scores near 0.002 to 0.004, these features are the least influential according to the model and may be candidates for removal in feature selection processes.\n",
    "</div>"
   ]
  },
  {
   "cell_type": "markdown",
   "metadata": {},
   "source": [
    "## Feature Importance (AKA Model-based feature selection)\n",
    "In SKLearn, SelectFromModel is a meta-transformer that can be used along with any model that importance of each feature through a specific attribute (such as coef_, feature_importances_) or callable after fitting."
   ]
  },
  {
   "cell_type": "code",
   "execution_count": 510,
   "metadata": {},
   "outputs": [
    {
     "data": {
      "image/png": "[encoded data removed]",
      "text/plain": [
       "<Figure size 1000x800 with 1 Axes>"
      ]
     },
     "metadata": {},
     "output_type": "display_data"
    },
    {
     "name": "stdout",
     "output_type": "stream",
     "text": [
      "Features selected by SelectFromModel:  []\n",
      "Done in 0.477s\n"
     ]
    }
   ],
   "source": [
    "X = df_encoded.drop('y', axis=1)  # df_encoded should be the DataFrame after encoding and excluding the target\n",
    "y = df_encoded['y']\n",
    "\n",
    "# Fit LassoCV to the data\n",
    "lasso = LassoCV(cv=5).fit(X, y)\n",
    "\n",
    "# Calculate the absolute values of the coefficients\n",
    "importance = np.abs(lasso.coef_)\n",
    "\n",
    "# Assuming feature names are the column names of X\n",
    "feature_names = np.array(X.columns)\n",
    "\n",
    "# Plotting the feature importances\n",
    "plt.figure(figsize=(10, 8))  # Adjusting figure size for better readability\n",
    "plt.bar(height=importance, x=feature_names)\n",
    "plt.title(\"Feature importances via coefficients\")\n",
    "plt.xticks(rotation=90)  # Rotating feature names for better visibility\n",
    "plt.show()\n",
    "\n",
    "# Setting the threshold for feature selection slightly above the third most important feature\n",
    "threshold = np.sort(importance)[-3] + 0.01\n",
    "\n",
    "# Timing the feature selection process\n",
    "tic = time()\n",
    "sfm = SelectFromModel(lasso, threshold=threshold).fit(X, y)\n",
    "toc = time()\n",
    "\n",
    "# Printing the selected features\n",
    "print(\"Features selected by SelectFromModel: \", feature_names[sfm.get_support()])\n",
    "print(f\"Done in {toc - tic:.3f}s\")"
   ]
  },
  {
   "cell_type": "markdown",
   "metadata": {},
   "source": [
    "<div style=\"background-color: yellow; color: black; padding: 10px;\">\n",
    "    The feature duration has a significantly taller bar compared to the others. This indicates that duration has the largest absolute coefficient value and is likely the most important predictor in the Lasso model. And other features don't add much value in the presence of duration.\n",
    "</div>"
   ]
  },
  {
   "cell_type": "markdown",
   "metadata": {},
   "source": [
    "<div style=\"background-color: blue; color: white; padding: 10px;\">\n",
    "    Decision to remove duration.\n",
    "</div>"
   ]
  },
  {
   "cell_type": "code",
   "execution_count": 511,
   "metadata": {},
   "outputs": [],
   "source": [
    "df_encoded.drop('duration', axis=1, inplace=True)\n",
    "df.drop('duration', axis=1, inplace=True)"
   ]
  },
  {
   "cell_type": "markdown",
   "metadata": {},
   "source": [
    "# Dimensionality Reduction\n",
    "Dimensionality Reduction techniques decompose features into a smaller subset, this can be useful for exploratory data analysis, visualization, making predictive modelling and clustering."
   ]
  },
  {
   "cell_type": "markdown",
   "metadata": {},
   "source": [
    "## Principal Component Analysis (PCA)"
   ]
  },
  {
   "cell_type": "code",
   "execution_count": null,
   "metadata": {},
   "outputs": [],
   "source": []
  },
  {
   "cell_type": "markdown",
   "metadata": {},
   "source": [
    "## Uniform Manifold Approximation and Projection (UMAP)"
   ]
  },
  {
   "cell_type": "code",
   "execution_count": null,
   "metadata": {},
   "outputs": [],
   "source": []
  },
  {
   "cell_type": "markdown",
   "metadata": {},
   "source": [
    "## Potential of Heat-diffusion for Affinity-based Trajectory Embedding (PHATE)"
   ]
  },
  {
   "cell_type": "code",
   "execution_count": null,
   "metadata": {},
   "outputs": [],
   "source": []
  },
  {
   "cell_type": "markdown",
   "metadata": {},
   "source": [
    "# Feature Engineering\n",
    "The process of using domain knowledge to create features or input variables that help ML algorithms perform better."
   ]
  },
  {
   "cell_type": "markdown",
   "metadata": {},
   "source": [
    "## Feature Scaling: Standardization"
   ]
  },
  {
   "cell_type": "code",
   "execution_count": 512,
   "metadata": {},
   "outputs": [],
   "source": [
    "df_standardized = df_encoded.copy()"
   ]
  },
  {
   "cell_type": "markdown",
   "metadata": {},
   "source": [
    "### pdays: Treat -1 as Missing and Standardize the Rest"
   ]
  },
  {
   "cell_type": "code",
   "execution_count": 513,
   "metadata": {},
   "outputs": [
    {
     "data": {
      "text/html": [
       "<div>\n",
       "<style scoped>\n",
       "    .dataframe tbody tr th:only-of-type {\n",
       "        vertical-align: middle;\n",
       "    }\n",
       "\n",
       "    .dataframe tbody tr th {\n",
       "        vertical-align: top;\n",
       "    }\n",
       "\n",
       "    .dataframe thead th {\n",
       "        text-align: right;\n",
       "    }\n",
       "</style>\n",
       "<table border=\"1\" class=\"dataframe\">\n",
       "  <thead>\n",
       "    <tr style=\"text-align: right;\">\n",
       "      <th></th>\n",
       "      <th>age</th>\n",
       "      <th>job</th>\n",
       "      <th>education</th>\n",
       "      <th>default</th>\n",
       "      <th>balance</th>\n",
       "      <th>housing</th>\n",
       "      <th>loan</th>\n",
       "      <th>day</th>\n",
       "      <th>month</th>\n",
       "      <th>campaign</th>\n",
       "      <th>...</th>\n",
       "      <th>y</th>\n",
       "      <th>marital_divorced</th>\n",
       "      <th>marital_married</th>\n",
       "      <th>marital_single</th>\n",
       "      <th>poutcome_failure</th>\n",
       "      <th>poutcome_other</th>\n",
       "      <th>poutcome_success</th>\n",
       "      <th>poutcome_unknown</th>\n",
       "      <th>pdays_clean</th>\n",
       "      <th>pdays_standardized</th>\n",
       "    </tr>\n",
       "  </thead>\n",
       "  <tbody>\n",
       "    <tr>\n",
       "      <th>0</th>\n",
       "      <td>58</td>\n",
       "      <td>4</td>\n",
       "      <td>3</td>\n",
       "      <td>0</td>\n",
       "      <td>2143</td>\n",
       "      <td>1</td>\n",
       "      <td>0</td>\n",
       "      <td>5</td>\n",
       "      <td>8</td>\n",
       "      <td>1</td>\n",
       "      <td>...</td>\n",
       "      <td>0</td>\n",
       "      <td>0</td>\n",
       "      <td>1</td>\n",
       "      <td>False</td>\n",
       "      <td>False</td>\n",
       "      <td>False</td>\n",
       "      <td>0</td>\n",
       "      <td>True</td>\n",
       "      <td>NaN</td>\n",
       "      <td>-1.0</td>\n",
       "    </tr>\n",
       "    <tr>\n",
       "      <th>1</th>\n",
       "      <td>44</td>\n",
       "      <td>9</td>\n",
       "      <td>2</td>\n",
       "      <td>0</td>\n",
       "      <td>29</td>\n",
       "      <td>1</td>\n",
       "      <td>0</td>\n",
       "      <td>5</td>\n",
       "      <td>8</td>\n",
       "      <td>1</td>\n",
       "      <td>...</td>\n",
       "      <td>0</td>\n",
       "      <td>0</td>\n",
       "      <td>0</td>\n",
       "      <td>True</td>\n",
       "      <td>False</td>\n",
       "      <td>False</td>\n",
       "      <td>0</td>\n",
       "      <td>True</td>\n",
       "      <td>NaN</td>\n",
       "      <td>-1.0</td>\n",
       "    </tr>\n",
       "    <tr>\n",
       "      <th>2</th>\n",
       "      <td>33</td>\n",
       "      <td>2</td>\n",
       "      <td>2</td>\n",
       "      <td>0</td>\n",
       "      <td>2</td>\n",
       "      <td>1</td>\n",
       "      <td>1</td>\n",
       "      <td>5</td>\n",
       "      <td>8</td>\n",
       "      <td>1</td>\n",
       "      <td>...</td>\n",
       "      <td>0</td>\n",
       "      <td>0</td>\n",
       "      <td>1</td>\n",
       "      <td>False</td>\n",
       "      <td>False</td>\n",
       "      <td>False</td>\n",
       "      <td>0</td>\n",
       "      <td>True</td>\n",
       "      <td>NaN</td>\n",
       "      <td>-1.0</td>\n",
       "    </tr>\n",
       "    <tr>\n",
       "      <th>3</th>\n",
       "      <td>47</td>\n",
       "      <td>1</td>\n",
       "      <td>2</td>\n",
       "      <td>0</td>\n",
       "      <td>1506</td>\n",
       "      <td>1</td>\n",
       "      <td>0</td>\n",
       "      <td>5</td>\n",
       "      <td>8</td>\n",
       "      <td>1</td>\n",
       "      <td>...</td>\n",
       "      <td>0</td>\n",
       "      <td>0</td>\n",
       "      <td>1</td>\n",
       "      <td>False</td>\n",
       "      <td>False</td>\n",
       "      <td>False</td>\n",
       "      <td>0</td>\n",
       "      <td>True</td>\n",
       "      <td>NaN</td>\n",
       "      <td>-1.0</td>\n",
       "    </tr>\n",
       "    <tr>\n",
       "      <th>4</th>\n",
       "      <td>33</td>\n",
       "      <td>0</td>\n",
       "      <td>2</td>\n",
       "      <td>0</td>\n",
       "      <td>1</td>\n",
       "      <td>0</td>\n",
       "      <td>0</td>\n",
       "      <td>5</td>\n",
       "      <td>8</td>\n",
       "      <td>1</td>\n",
       "      <td>...</td>\n",
       "      <td>0</td>\n",
       "      <td>0</td>\n",
       "      <td>0</td>\n",
       "      <td>True</td>\n",
       "      <td>False</td>\n",
       "      <td>False</td>\n",
       "      <td>0</td>\n",
       "      <td>True</td>\n",
       "      <td>NaN</td>\n",
       "      <td>-1.0</td>\n",
       "    </tr>\n",
       "  </tbody>\n",
       "</table>\n",
       "<p>5 rows × 22 columns</p>\n",
       "</div>"
      ],
      "text/plain": [
       "   age  job  education  default  balance  housing  loan  day  month  campaign  \\\n",
       "0   58    4          3        0     2143        1     0    5      8         1   \n",
       "1   44    9          2        0       29        1     0    5      8         1   \n",
       "2   33    2          2        0        2        1     1    5      8         1   \n",
       "3   47    1          2        0     1506        1     0    5      8         1   \n",
       "4   33    0          2        0        1        0     0    5      8         1   \n",
       "\n",
       "   ...  y  marital_divorced  marital_married  marital_single  \\\n",
       "0  ...  0                 0                1           False   \n",
       "1  ...  0                 0                0            True   \n",
       "2  ...  0                 0                1           False   \n",
       "3  ...  0                 0                1           False   \n",
       "4  ...  0                 0                0            True   \n",
       "\n",
       "   poutcome_failure  poutcome_other  poutcome_success  poutcome_unknown  \\\n",
       "0             False           False                 0              True   \n",
       "1             False           False                 0              True   \n",
       "2             False           False                 0              True   \n",
       "3             False           False                 0              True   \n",
       "4             False           False                 0              True   \n",
       "\n",
       "   pdays_clean  pdays_standardized  \n",
       "0          NaN                -1.0  \n",
       "1          NaN                -1.0  \n",
       "2          NaN                -1.0  \n",
       "3          NaN                -1.0  \n",
       "4          NaN                -1.0  \n",
       "\n",
       "[5 rows x 22 columns]"
      ]
     },
     "execution_count": 513,
     "metadata": {},
     "output_type": "execute_result"
    }
   ],
   "source": [
    "# Replace -1 with NaN for standardization purposes\n",
    "df_standardized['pdays_clean'] = df_standardized['pdays'].replace(-1, np.nan)\n",
    "\n",
    "# Initialize the scaler\n",
    "scaler = StandardScaler()\n",
    "\n",
    "# Fit scaler on non-NaN data\n",
    "scaler.fit(df_standardized['pdays_clean'].dropna().values.reshape(-1, 1))\n",
    "\n",
    "# Apply transformation to the non-NaN data\n",
    "df_standardized['pdays_standardized'] = scaler.transform(df_standardized['pdays_clean'].values.reshape(-1, 1))\n",
    "\n",
    "# Replace NaNs back to -1 after standardization\n",
    "df_standardized['pdays_standardized'] = df_standardized['pdays_standardized'].fillna(-1)\n",
    "\n",
    "df_standardized.head()"
   ]
  },
  {
   "cell_type": "markdown",
   "metadata": {},
   "source": [
    "### Rest of the columns except for target 'y'"
   ]
  },
  {
   "cell_type": "code",
   "execution_count": 514,
   "metadata": {},
   "outputs": [
    {
     "data": {
      "text/html": [
       "<div>\n",
       "<style scoped>\n",
       "    .dataframe tbody tr th:only-of-type {\n",
       "        vertical-align: middle;\n",
       "    }\n",
       "\n",
       "    .dataframe tbody tr th {\n",
       "        vertical-align: top;\n",
       "    }\n",
       "\n",
       "    .dataframe thead th {\n",
       "        text-align: right;\n",
       "    }\n",
       "</style>\n",
       "<table border=\"1\" class=\"dataframe\">\n",
       "  <thead>\n",
       "    <tr style=\"text-align: right;\">\n",
       "      <th></th>\n",
       "      <th>age</th>\n",
       "      <th>job</th>\n",
       "      <th>education</th>\n",
       "      <th>default</th>\n",
       "      <th>balance</th>\n",
       "      <th>housing</th>\n",
       "      <th>loan</th>\n",
       "      <th>day</th>\n",
       "      <th>month</th>\n",
       "      <th>campaign</th>\n",
       "      <th>...</th>\n",
       "      <th>y</th>\n",
       "      <th>marital_divorced</th>\n",
       "      <th>marital_married</th>\n",
       "      <th>marital_single</th>\n",
       "      <th>poutcome_failure</th>\n",
       "      <th>poutcome_other</th>\n",
       "      <th>poutcome_success</th>\n",
       "      <th>poutcome_unknown</th>\n",
       "      <th>pdays_clean</th>\n",
       "      <th>pdays_standardized</th>\n",
       "    </tr>\n",
       "  </thead>\n",
       "  <tbody>\n",
       "    <tr>\n",
       "      <th>0</th>\n",
       "      <td>1.606972</td>\n",
       "      <td>-0.089933</td>\n",
       "      <td>1.314530</td>\n",
       "      <td>-0.135498</td>\n",
       "      <td>0.256388</td>\n",
       "      <td>0.893884</td>\n",
       "      <td>-0.436760</td>\n",
       "      <td>-1.298451</td>\n",
       "      <td>0.823878</td>\n",
       "      <td>-0.569337</td>\n",
       "      <td>...</td>\n",
       "      <td>0</td>\n",
       "      <td>-0.360802</td>\n",
       "      <td>0.813212</td>\n",
       "      <td>-0.628070</td>\n",
       "      <td>-0.348709</td>\n",
       "      <td>-0.205984</td>\n",
       "      <td>-0.185959</td>\n",
       "      <td>0.472551</td>\n",
       "      <td>NaN</td>\n",
       "      <td>-0.31692</td>\n",
       "    </tr>\n",
       "    <tr>\n",
       "      <th>1</th>\n",
       "      <td>0.288511</td>\n",
       "      <td>1.454486</td>\n",
       "      <td>-0.218693</td>\n",
       "      <td>-0.135498</td>\n",
       "      <td>-0.437894</td>\n",
       "      <td>0.893884</td>\n",
       "      <td>-0.436760</td>\n",
       "      <td>-1.298451</td>\n",
       "      <td>0.823878</td>\n",
       "      <td>-0.569337</td>\n",
       "      <td>...</td>\n",
       "      <td>0</td>\n",
       "      <td>-0.360802</td>\n",
       "      <td>-1.229692</td>\n",
       "      <td>1.592179</td>\n",
       "      <td>-0.348709</td>\n",
       "      <td>-0.205984</td>\n",
       "      <td>-0.185959</td>\n",
       "      <td>0.472551</td>\n",
       "      <td>NaN</td>\n",
       "      <td>-0.31692</td>\n",
       "    </tr>\n",
       "    <tr>\n",
       "      <th>2</th>\n",
       "      <td>-0.747424</td>\n",
       "      <td>-0.707701</td>\n",
       "      <td>-0.218693</td>\n",
       "      <td>-0.135498</td>\n",
       "      <td>-0.446762</td>\n",
       "      <td>0.893884</td>\n",
       "      <td>2.289585</td>\n",
       "      <td>-1.298451</td>\n",
       "      <td>0.823878</td>\n",
       "      <td>-0.569337</td>\n",
       "      <td>...</td>\n",
       "      <td>0</td>\n",
       "      <td>-0.360802</td>\n",
       "      <td>0.813212</td>\n",
       "      <td>-0.628070</td>\n",
       "      <td>-0.348709</td>\n",
       "      <td>-0.205984</td>\n",
       "      <td>-0.185959</td>\n",
       "      <td>0.472551</td>\n",
       "      <td>NaN</td>\n",
       "      <td>-0.31692</td>\n",
       "    </tr>\n",
       "    <tr>\n",
       "      <th>3</th>\n",
       "      <td>0.571038</td>\n",
       "      <td>-1.016585</td>\n",
       "      <td>-0.218693</td>\n",
       "      <td>-0.135498</td>\n",
       "      <td>0.047184</td>\n",
       "      <td>0.893884</td>\n",
       "      <td>-0.436760</td>\n",
       "      <td>-1.298451</td>\n",
       "      <td>0.823878</td>\n",
       "      <td>-0.569337</td>\n",
       "      <td>...</td>\n",
       "      <td>0</td>\n",
       "      <td>-0.360802</td>\n",
       "      <td>0.813212</td>\n",
       "      <td>-0.628070</td>\n",
       "      <td>-0.348709</td>\n",
       "      <td>-0.205984</td>\n",
       "      <td>-0.185959</td>\n",
       "      <td>0.472551</td>\n",
       "      <td>NaN</td>\n",
       "      <td>-0.31692</td>\n",
       "    </tr>\n",
       "    <tr>\n",
       "      <th>4</th>\n",
       "      <td>-0.747424</td>\n",
       "      <td>-1.325468</td>\n",
       "      <td>-0.218693</td>\n",
       "      <td>-0.135498</td>\n",
       "      <td>-0.447090</td>\n",
       "      <td>-1.118713</td>\n",
       "      <td>-0.436760</td>\n",
       "      <td>-1.298451</td>\n",
       "      <td>0.823878</td>\n",
       "      <td>-0.569337</td>\n",
       "      <td>...</td>\n",
       "      <td>0</td>\n",
       "      <td>-0.360802</td>\n",
       "      <td>-1.229692</td>\n",
       "      <td>1.592179</td>\n",
       "      <td>-0.348709</td>\n",
       "      <td>-0.205984</td>\n",
       "      <td>-0.185959</td>\n",
       "      <td>0.472551</td>\n",
       "      <td>NaN</td>\n",
       "      <td>-0.31692</td>\n",
       "    </tr>\n",
       "  </tbody>\n",
       "</table>\n",
       "<p>5 rows × 22 columns</p>\n",
       "</div>"
      ],
      "text/plain": [
       "        age       job  education   default   balance   housing      loan  \\\n",
       "0  1.606972 -0.089933   1.314530 -0.135498  0.256388  0.893884 -0.436760   \n",
       "1  0.288511  1.454486  -0.218693 -0.135498 -0.437894  0.893884 -0.436760   \n",
       "2 -0.747424 -0.707701  -0.218693 -0.135498 -0.446762  0.893884  2.289585   \n",
       "3  0.571038 -1.016585  -0.218693 -0.135498  0.047184  0.893884 -0.436760   \n",
       "4 -0.747424 -1.325468  -0.218693 -0.135498 -0.447090 -1.118713 -0.436760   \n",
       "\n",
       "        day     month  campaign  ...  y  marital_divorced  marital_married  \\\n",
       "0 -1.298451  0.823878 -0.569337  ...  0         -0.360802         0.813212   \n",
       "1 -1.298451  0.823878 -0.569337  ...  0         -0.360802        -1.229692   \n",
       "2 -1.298451  0.823878 -0.569337  ...  0         -0.360802         0.813212   \n",
       "3 -1.298451  0.823878 -0.569337  ...  0         -0.360802         0.813212   \n",
       "4 -1.298451  0.823878 -0.569337  ...  0         -0.360802        -1.229692   \n",
       "\n",
       "   marital_single  poutcome_failure  poutcome_other  poutcome_success  \\\n",
       "0       -0.628070         -0.348709       -0.205984         -0.185959   \n",
       "1        1.592179         -0.348709       -0.205984         -0.185959   \n",
       "2       -0.628070         -0.348709       -0.205984         -0.185959   \n",
       "3       -0.628070         -0.348709       -0.205984         -0.185959   \n",
       "4        1.592179         -0.348709       -0.205984         -0.185959   \n",
       "\n",
       "   poutcome_unknown  pdays_clean  pdays_standardized  \n",
       "0          0.472551          NaN            -0.31692  \n",
       "1          0.472551          NaN            -0.31692  \n",
       "2          0.472551          NaN            -0.31692  \n",
       "3          0.472551          NaN            -0.31692  \n",
       "4          0.472551          NaN            -0.31692  \n",
       "\n",
       "[5 rows x 22 columns]"
      ]
     },
     "execution_count": 514,
     "metadata": {},
     "output_type": "execute_result"
    }
   ],
   "source": [
    "# List of columns to standardize, excluding 'pdays', 'pdays_clean', and 'y'\n",
    "columns_to_scale = df_standardized.columns.difference(['pdays', 'pdays_clean', 'y'])\n",
    "\n",
    "# Fit and apply scaler to selected columns\n",
    "df_standardized[columns_to_scale] = scaler.fit_transform(df_standardized[columns_to_scale])\n",
    "\n",
    "df_standardized.head()"
   ]
  },
  {
   "cell_type": "markdown",
   "metadata": {},
   "source": [
    "## Polynomial Features"
   ]
  },
  {
   "cell_type": "code",
   "execution_count": 515,
   "metadata": {},
   "outputs": [],
   "source": [
    "from sklearn.preprocessing import PolynomialFeatures"
   ]
  },
  {
   "cell_type": "markdown",
   "metadata": {},
   "source": [
    "## Automated Feature Engineering"
   ]
  },
  {
   "cell_type": "markdown",
   "metadata": {},
   "source": [
    "### Featuretools"
   ]
  },
  {
   "cell_type": "code",
   "execution_count": 516,
   "metadata": {},
   "outputs": [],
   "source": [
    "import featuretools as ft"
   ]
  },
  {
   "cell_type": "markdown",
   "metadata": {},
   "source": [
    "### autofeat"
   ]
  },
  {
   "cell_type": "code",
   "execution_count": 517,
   "metadata": {},
   "outputs": [
    {
     "ename": "NameError",
     "evalue": "name 'AutoFeatRegressor' is not defined",
     "output_type": "error",
     "traceback": [
      "\u001b[0;31m---------------------------------------------------------------------------\u001b[0m",
      "\u001b[0;31mNameError\u001b[0m                                 Traceback (most recent call last)",
      "Cell \u001b[0;32mIn[517], line 1\u001b[0m\n\u001b[0;32m----> 1\u001b[0m \u001b[43mAutoFeatRegressor\u001b[49m\n",
      "\u001b[0;31mNameError\u001b[0m: name 'AutoFeatRegressor' is not defined"
     ]
    }
   ],
   "source": [
    "AutoFeatRegressor"
   ]
  },
  {
   "cell_type": "markdown",
   "metadata": {},
   "source": [
    "### tsfresh"
   ]
  },
  {
   "cell_type": "code",
   "execution_count": null,
   "metadata": {},
   "outputs": [
    {
     "ename": "ImportError",
     "evalue": "cannot import name 'extract_relevant_features' from 'tsfresh.examples.robot_execution_failures' (/Library/Frameworks/Python.framework/Versions/3.12/lib/python3.12/site-packages/tsfresh/examples/robot_execution_failures.py)",
     "output_type": "error",
     "traceback": [
      "\u001b[0;31m---------------------------------------------------------------------------\u001b[0m",
      "\u001b[0;31mImportError\u001b[0m                               Traceback (most recent call last)",
      "Cell \u001b[0;32mIn[323], line 1\u001b[0m\n\u001b[0;32m----> 1\u001b[0m \u001b[38;5;28;01mfrom\u001b[39;00m \u001b[38;5;21;01mtsfresh\u001b[39;00m\u001b[38;5;21;01m.\u001b[39;00m\u001b[38;5;21;01mexamples\u001b[39;00m\u001b[38;5;21;01m.\u001b[39;00m\u001b[38;5;21;01mrobot_execution_failures\u001b[39;00m \u001b[38;5;28;01mimport\u001b[39;00m (\n\u001b[1;32m      2\u001b[0m     download_robot_execution_failures,\n\u001b[1;32m      3\u001b[0m     load_robot_execution_failures,\n\u001b[1;32m      4\u001b[0m     extract_relevant_features\n\u001b[1;32m      5\u001b[0m )\n",
      "\u001b[0;31mImportError\u001b[0m: cannot import name 'extract_relevant_features' from 'tsfresh.examples.robot_execution_failures' (/Library/Frameworks/Python.framework/Versions/3.12/lib/python3.12/site-packages/tsfresh/examples/robot_execution_failures.py)"
     ]
    }
   ],
   "source": [
    "from tsfresh.examples.robot_execution_failures import (\n",
    "    download_robot_execution_failures,\n",
    "    load_robot_execution_failures,\n",
    "    extract_relevant_features\n",
    ")"
   ]
  },
  {
   "cell_type": "markdown",
   "metadata": {},
   "source": [
    "## Data/Information Leakage analysis"
   ]
  },
  {
   "cell_type": "code",
   "execution_count": null,
   "metadata": {},
   "outputs": [],
   "source": []
  },
  {
   "cell_type": "markdown",
   "metadata": {},
   "source": [
    "## Unsupervised approaches"
   ]
  },
  {
   "cell_type": "markdown",
   "metadata": {},
   "source": [
    "### Dimensionality reduction"
   ]
  },
  {
   "cell_type": "code",
   "execution_count": null,
   "metadata": {},
   "outputs": [],
   "source": []
  },
  {
   "cell_type": "markdown",
   "metadata": {},
   "source": [
    "### Clustering"
   ]
  },
  {
   "cell_type": "code",
   "execution_count": null,
   "metadata": {},
   "outputs": [],
   "source": []
  },
  {
   "cell_type": "markdown",
   "metadata": {},
   "source": [
    "## Semi-supervised approaches"
   ]
  },
  {
   "cell_type": "markdown",
   "metadata": {},
   "source": [
    "### Self-Learning"
   ]
  },
  {
   "cell_type": "code",
   "execution_count": null,
   "metadata": {},
   "outputs": [],
   "source": []
  },
  {
   "cell_type": "markdown",
   "metadata": {},
   "source": [
    "### Clustering for Semi-Supervised Learning"
   ]
  },
  {
   "cell_type": "code",
   "execution_count": null,
   "metadata": {},
   "outputs": [],
   "source": []
  }
 ],
 "metadata": {
  "kernelspec": {
   "display_name": "Python 3",
   "language": "python",
   "name": "python3"
  },
  "language_info": {
   "codemirror_mode": {
    "name": "ipython",
    "version": 3
   },
   "file_extension": ".py",
   "mimetype": "text/x-python",
   "name": "python",
   "nbconvert_exporter": "python",
   "pygments_lexer": "ipython3",
   "version": "3.12.0"
  }
 },
 "nbformat": 4,
 "nbformat_minor": 2
}
